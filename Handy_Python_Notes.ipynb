{
  "nbformat": 4,
  "nbformat_minor": 0,
  "metadata": {
    "colab": {
      "name": "Handy Python Notes.ipynb",
      "provenance": [],
      "collapsed_sections": [
        "Qt3LplovnsV5",
        "AZQ4oz0JoY2-",
        "D7LbUYS-oh-z",
        "9H9iuuVOqPzN",
        "Pby5lDJfsWsA",
        "EdGUapBnvPb9",
        "--BNglSr25FK",
        "yCG4Leej3q_K",
        "gzed8Xsr4WeK",
        "TYp-xsf45UHX",
        "ukTTaWLP7kmR"
      ],
      "authorship_tag": "ABX9TyPMi8ha3TsYqW0phr0uEbZf",
      "include_colab_link": true
    },
    "kernelspec": {
      "name": "python3",
      "display_name": "Python 3"
    },
    "language_info": {
      "name": "python"
    }
  },
  "cells": [
    {
      "cell_type": "markdown",
      "metadata": {
        "id": "view-in-github",
        "colab_type": "text"
      },
      "source": [
        "<a href=\"https://colab.research.google.com/github/T-art-coder/Python-notebooks/blob/main/Handy_Python_Notes.ipynb\" target=\"_parent\"><img src=\"https://colab.research.google.com/assets/colab-badge.svg\" alt=\"Open In Colab\"/></a>"
      ]
    },
    {
      "cell_type": "markdown",
      "source": [
        "\n",
        "> > >>> >**РЕШЕНИЕ ТИПОВЫХ ЗАДАЧ С ПОМОЩЬЮ PYTHON**\n",
        "\n",
        "**Задачи ноутбука**\n",
        "\n",
        "\n",
        "1.   Собрать часто встречающиеся вопросы по исп. pandas, base python и прочих пакетов. \n",
        "2.   Проиллюстрировать решение кратко и с комментариями на будущее.\n",
        "\n",
        "\n",
        "\n",
        "*   **Создано**: 06.06.2022\n",
        "*   **Обновлено**: 06.06.2022 \n",
        "\n",
        "\n",
        "\n",
        "\n",
        "\n",
        "\n",
        "\n"
      ],
      "metadata": {
        "id": "Me1u6ssQnFKo"
      }
    },
    {
      "cell_type": "markdown",
      "source": [
        "\n",
        "\n",
        ">>>> ## **Работа с временем в Python**\n",
        "\n",
        "\n",
        "\n",
        "---\n",
        "\n",
        "\n"
      ],
      "metadata": {
        "id": "Qt3LplovnsV5"
      }
    },
    {
      "cell_type": "code",
      "execution_count": 1,
      "metadata": {
        "id": "iszYFcptmZlk"
      },
      "outputs": [],
      "source": [
        "import datetime"
      ]
    },
    {
      "cell_type": "code",
      "source": [
        "print(datetime.date.today())"
      ],
      "metadata": {
        "colab": {
          "base_uri": "https://localhost:8080/"
        },
        "id": "WExdexZVnDwm",
        "outputId": "9ef145c6-82af-4846-957c-094ee8374b5b"
      },
      "execution_count": 2,
      "outputs": [
        {
          "output_type": "stream",
          "name": "stdout",
          "text": [
            "2022-06-06\n"
          ]
        }
      ]
    },
    {
      "cell_type": "code",
      "source": [
        "datetime.datetime.fromtimestamp(528756281)"
      ],
      "metadata": {
        "colab": {
          "base_uri": "https://localhost:8080/"
        },
        "id": "Vpc-dlWsnDy9",
        "outputId": "9716a81a-e68d-4c67-b6ea-afea6db5fc29"
      },
      "execution_count": 3,
      "outputs": [
        {
          "output_type": "execute_result",
          "data": {
            "text/plain": [
              "datetime.datetime(1986, 10, 3, 20, 44, 41)"
            ]
          },
          "metadata": {},
          "execution_count": 3
        }
      ]
    },
    {
      "cell_type": "markdown",
      "source": [
        "### Парсинг даты с помощью dateutil.parser.parse "
      ],
      "metadata": {
        "id": "AZQ4oz0JoY2-"
      }
    },
    {
      "cell_type": "code",
      "source": [
        "from dateutil.parser import parse\n",
        "\n",
        "parse('January 31, 2010')"
      ],
      "metadata": {
        "colab": {
          "base_uri": "https://localhost:8080/"
        },
        "id": "OI1V4lFrnD1u",
        "outputId": "47be7041-61e8-4256-de42-5d5ac6fc1154"
      },
      "execution_count": 4,
      "outputs": [
        {
          "output_type": "execute_result",
          "data": {
            "text/plain": [
              "datetime.datetime(2010, 1, 31, 0, 0)"
            ]
          },
          "metadata": {},
          "execution_count": 4
        }
      ]
    },
    {
      "cell_type": "code",
      "source": [
        "parse('31, March 31, 2010, 10:51pm')"
      ],
      "metadata": {
        "colab": {
          "base_uri": "https://localhost:8080/"
        },
        "id": "Y96QHTFBnD4S",
        "outputId": "d276d9dc-1297-4c06-aebb-ee078aaba699"
      },
      "execution_count": 5,
      "outputs": [
        {
          "output_type": "execute_result",
          "data": {
            "text/plain": [
              "datetime.datetime(2031, 3, 31, 22, 51)"
            ]
          },
          "metadata": {},
          "execution_count": 5
        }
      ]
    },
    {
      "cell_type": "markdown",
      "source": [
        "### **Объект типа datetime.datime**\n",
        "strftime - перевод объекта в стрингу основного формата\n",
        "\n",
        "strptime - перевод стрингу в объект datetime с определением формата"
      ],
      "metadata": {
        "id": "D7LbUYS-oh-z"
      }
    },
    {
      "cell_type": "code",
      "source": [
        "###  ()\n",
        "dt = datetime.datetime(2001, 1, 31, 10, 51, 0)\n",
        "\n",
        "print(dt.strftime('%Y-%m-%d::%H-%M'))"
      ],
      "metadata": {
        "colab": {
          "base_uri": "https://localhost:8080/"
        },
        "id": "EBOpl7NQnD9O",
        "outputId": "3df9ef2d-d1b3-43e9-8c14-9e97c4a8ebf7"
      },
      "execution_count": 8,
      "outputs": [
        {
          "output_type": "stream",
          "name": "stdout",
          "text": [
            "2001-01-31::10-51\n"
          ]
        }
      ]
    },
    {
      "cell_type": "code",
      "source": [
        "df1 = dt.strftime('%Y-%m-%d::%H-%M')\n",
        "format ='%Y-%m-%d::%H-%M'\n",
        "dt.strptime(df1, format)"
      ],
      "metadata": {
        "colab": {
          "base_uri": "https://localhost:8080/"
        },
        "id": "4MblMur-nD_t",
        "outputId": "50821ab1-adea-4811-c0ee-f053544141ed"
      },
      "execution_count": 12,
      "outputs": [
        {
          "output_type": "execute_result",
          "data": {
            "text/plain": [
              "datetime.datetime(2001, 1, 31, 10, 51)"
            ]
          },
          "metadata": {},
          "execution_count": 12
        }
      ]
    },
    {
      "cell_type": "code",
      "source": [
        "dt = datetime.datetime(2001, 1, 31)\n",
        "\n",
        "print(dt.strftime('%d %B, %Y, %A'))"
      ],
      "metadata": {
        "colab": {
          "base_uri": "https://localhost:8080/"
        },
        "id": "m_-H4KMknEBw",
        "outputId": "9402b548-c3a6-416a-ba56-229c88e9169d"
      },
      "execution_count": 13,
      "outputs": [
        {
          "output_type": "stream",
          "name": "stdout",
          "text": [
            "31 January, 2001, Wednesday\n"
          ]
        }
      ]
    },
    {
      "cell_type": "code",
      "source": [
        "dt = datetime.datetime.today()\n",
        "dt.day"
      ],
      "metadata": {
        "colab": {
          "base_uri": "https://localhost:8080/"
        },
        "id": "_XDytF8DnEEh",
        "outputId": "a5a1c7eb-5714-4729-ab53-11e21ea3167a"
      },
      "execution_count": 14,
      "outputs": [
        {
          "output_type": "execute_result",
          "data": {
            "text/plain": [
              "6"
            ]
          },
          "metadata": {},
          "execution_count": 14
        }
      ]
    },
    {
      "cell_type": "code",
      "source": [
        "datetime.date.today() + datetime.timedelta(days = 2)"
      ],
      "metadata": {
        "colab": {
          "base_uri": "https://localhost:8080/"
        },
        "id": "fm9Q1sqtnEG8",
        "outputId": "72c89142-b74f-4f41-f39c-1e36c325ec73"
      },
      "execution_count": 15,
      "outputs": [
        {
          "output_type": "execute_result",
          "data": {
            "text/plain": [
              "datetime.date(2022, 6, 8)"
            ]
          },
          "metadata": {},
          "execution_count": 15
        }
      ]
    },
    {
      "cell_type": "code",
      "source": [
        "bday = 'Sep 17, 1997'\n",
        "\n",
        "td = datetime.datetime.now() - parse(bday)\n",
        "td.days"
      ],
      "metadata": {
        "colab": {
          "base_uri": "https://localhost:8080/"
        },
        "id": "WBPk8tW7nEJt",
        "outputId": "7f3055cc-024e-4768-c721-c1cb8c901a35"
      },
      "execution_count": 16,
      "outputs": [
        {
          "output_type": "execute_result",
          "data": {
            "text/plain": [
              "9028"
            ]
          },
          "metadata": {},
          "execution_count": 16
        }
      ]
    },
    {
      "cell_type": "markdown",
      "source": [
        "### **Генерация списка дат - напишем функцию date_list**"
      ],
      "metadata": {
        "id": "9H9iuuVOqPzN"
      }
    },
    {
      "cell_type": "code",
      "source": [
        "## Задаем объекты и находим дельу\n",
        "d1 = datetime.date(1869, 1, 2)\n",
        "d2 = datetime.date(1869, 10, 2)\n",
        "delta = d2 - d1\n",
        "delta"
      ],
      "metadata": {
        "colab": {
          "base_uri": "https://localhost:8080/"
        },
        "id": "RQyQrc0DnEMX",
        "outputId": "066d89c6-f834-45ee-a4aa-993ec7047b85"
      },
      "execution_count": 17,
      "outputs": [
        {
          "output_type": "execute_result",
          "data": {
            "text/plain": [
              "datetime.timedelta(days=273)"
            ]
          },
          "metadata": {},
          "execution_count": 17
        }
      ]
    },
    {
      "cell_type": "code",
      "source": [
        "# Генерируется список стринговых дат\n",
        "# Чтобы список давал объекты дейттайм надо убрать strftime('%Y-%m-%d'\n",
        "print([(d1 + datetime.timedelta(i)).strftime('%Y-%m-%d') for i in range(delta.days + 1)])"
      ],
      "metadata": {
        "colab": {
          "base_uri": "https://localhost:8080/"
        },
        "id": "OMDRLhmmnEO9",
        "outputId": "ce54249b-f630-4ad6-9fef-bfbff7c24c7d"
      },
      "execution_count": 22,
      "outputs": [
        {
          "output_type": "stream",
          "name": "stdout",
          "text": [
            "['1869-01-02', '1869-01-03', '1869-01-04', '1869-01-05', '1869-01-06', '1869-01-07', '1869-01-08', '1869-01-09', '1869-01-10', '1869-01-11', '1869-01-12', '1869-01-13', '1869-01-14', '1869-01-15', '1869-01-16', '1869-01-17', '1869-01-18', '1869-01-19', '1869-01-20', '1869-01-21', '1869-01-22', '1869-01-23', '1869-01-24', '1869-01-25', '1869-01-26', '1869-01-27', '1869-01-28', '1869-01-29', '1869-01-30', '1869-01-31', '1869-02-01', '1869-02-02', '1869-02-03', '1869-02-04', '1869-02-05', '1869-02-06', '1869-02-07', '1869-02-08', '1869-02-09', '1869-02-10', '1869-02-11', '1869-02-12', '1869-02-13', '1869-02-14', '1869-02-15', '1869-02-16', '1869-02-17', '1869-02-18', '1869-02-19', '1869-02-20', '1869-02-21', '1869-02-22', '1869-02-23', '1869-02-24', '1869-02-25', '1869-02-26', '1869-02-27', '1869-02-28', '1869-03-01', '1869-03-02', '1869-03-03', '1869-03-04', '1869-03-05', '1869-03-06', '1869-03-07', '1869-03-08', '1869-03-09', '1869-03-10', '1869-03-11', '1869-03-12', '1869-03-13', '1869-03-14', '1869-03-15', '1869-03-16', '1869-03-17', '1869-03-18', '1869-03-19', '1869-03-20', '1869-03-21', '1869-03-22', '1869-03-23', '1869-03-24', '1869-03-25', '1869-03-26', '1869-03-27', '1869-03-28', '1869-03-29', '1869-03-30', '1869-03-31', '1869-04-01', '1869-04-02', '1869-04-03', '1869-04-04', '1869-04-05', '1869-04-06', '1869-04-07', '1869-04-08', '1869-04-09', '1869-04-10', '1869-04-11', '1869-04-12', '1869-04-13', '1869-04-14', '1869-04-15', '1869-04-16', '1869-04-17', '1869-04-18', '1869-04-19', '1869-04-20', '1869-04-21', '1869-04-22', '1869-04-23', '1869-04-24', '1869-04-25', '1869-04-26', '1869-04-27', '1869-04-28', '1869-04-29', '1869-04-30', '1869-05-01', '1869-05-02', '1869-05-03', '1869-05-04', '1869-05-05', '1869-05-06', '1869-05-07', '1869-05-08', '1869-05-09', '1869-05-10', '1869-05-11', '1869-05-12', '1869-05-13', '1869-05-14', '1869-05-15', '1869-05-16', '1869-05-17', '1869-05-18', '1869-05-19', '1869-05-20', '1869-05-21', '1869-05-22', '1869-05-23', '1869-05-24', '1869-05-25', '1869-05-26', '1869-05-27', '1869-05-28', '1869-05-29', '1869-05-30', '1869-05-31', '1869-06-01', '1869-06-02', '1869-06-03', '1869-06-04', '1869-06-05', '1869-06-06', '1869-06-07', '1869-06-08', '1869-06-09', '1869-06-10', '1869-06-11', '1869-06-12', '1869-06-13', '1869-06-14', '1869-06-15', '1869-06-16', '1869-06-17', '1869-06-18', '1869-06-19', '1869-06-20', '1869-06-21', '1869-06-22', '1869-06-23', '1869-06-24', '1869-06-25', '1869-06-26', '1869-06-27', '1869-06-28', '1869-06-29', '1869-06-30', '1869-07-01', '1869-07-02', '1869-07-03', '1869-07-04', '1869-07-05', '1869-07-06', '1869-07-07', '1869-07-08', '1869-07-09', '1869-07-10', '1869-07-11', '1869-07-12', '1869-07-13', '1869-07-14', '1869-07-15', '1869-07-16', '1869-07-17', '1869-07-18', '1869-07-19', '1869-07-20', '1869-07-21', '1869-07-22', '1869-07-23', '1869-07-24', '1869-07-25', '1869-07-26', '1869-07-27', '1869-07-28', '1869-07-29', '1869-07-30', '1869-07-31', '1869-08-01', '1869-08-02', '1869-08-03', '1869-08-04', '1869-08-05', '1869-08-06', '1869-08-07', '1869-08-08', '1869-08-09', '1869-08-10', '1869-08-11', '1869-08-12', '1869-08-13', '1869-08-14', '1869-08-15', '1869-08-16', '1869-08-17', '1869-08-18', '1869-08-19', '1869-08-20', '1869-08-21', '1869-08-22', '1869-08-23', '1869-08-24', '1869-08-25', '1869-08-26', '1869-08-27', '1869-08-28', '1869-08-29', '1869-08-30', '1869-08-31', '1869-09-01', '1869-09-02', '1869-09-03', '1869-09-04', '1869-09-05', '1869-09-06', '1869-09-07', '1869-09-08', '1869-09-09', '1869-09-10', '1869-09-11', '1869-09-12', '1869-09-13', '1869-09-14', '1869-09-15', '1869-09-16', '1869-09-17', '1869-09-18', '1869-09-19', '1869-09-20', '1869-09-21', '1869-09-22', '1869-09-23', '1869-09-24', '1869-09-25', '1869-09-26', '1869-09-27', '1869-09-28', '1869-09-29', '1869-09-30', '1869-10-01', '1869-10-02']\n"
          ]
        }
      ]
    },
    {
      "cell_type": "code",
      "source": [
        "def date_list(d1, d2, string = True):\n",
        "  import datetime\n",
        " # d1 = datetime.date(1869, 1, 2)\n",
        " # d2 = datetime.date(1869, 10, 2)\n",
        "  delta = d2 - d1\n",
        "  \n",
        "  if string:\n",
        "    d_list = [(d1 + datetime.timedelta(i)).strftime('%Y-%m-%d') for i in range(delta.days + 1)]\n",
        "  else:\n",
        "    d_list =[(d1 + datetime.timedelta(i)) for i in range(delta.days + 1)]\n",
        "\n",
        "  return d_list\n"
      ],
      "metadata": {
        "id": "f6hCghVGnERW"
      },
      "execution_count": 41,
      "outputs": []
    },
    {
      "cell_type": "code",
      "source": [
        "d1 = datetime.date(1869, 1, 2)\n",
        "d2 = datetime.date(1869, 10, 2)\n",
        "\n",
        "date_list(d1, d2, string = False)"
      ],
      "metadata": {
        "colab": {
          "base_uri": "https://localhost:8080/"
        },
        "id": "f0LVf0lOropM",
        "outputId": "a17ff236-c318-4805-f28f-1919abf8a7b5"
      },
      "execution_count": 29,
      "outputs": [
        {
          "output_type": "stream",
          "name": "stdout",
          "text": [
            "[datetime.date(1869, 1, 2), datetime.date(1869, 1, 3), datetime.date(1869, 1, 4), datetime.date(1869, 1, 5), datetime.date(1869, 1, 6), datetime.date(1869, 1, 7), datetime.date(1869, 1, 8), datetime.date(1869, 1, 9), datetime.date(1869, 1, 10), datetime.date(1869, 1, 11), datetime.date(1869, 1, 12), datetime.date(1869, 1, 13), datetime.date(1869, 1, 14), datetime.date(1869, 1, 15), datetime.date(1869, 1, 16), datetime.date(1869, 1, 17), datetime.date(1869, 1, 18), datetime.date(1869, 1, 19), datetime.date(1869, 1, 20), datetime.date(1869, 1, 21), datetime.date(1869, 1, 22), datetime.date(1869, 1, 23), datetime.date(1869, 1, 24), datetime.date(1869, 1, 25), datetime.date(1869, 1, 26), datetime.date(1869, 1, 27), datetime.date(1869, 1, 28), datetime.date(1869, 1, 29), datetime.date(1869, 1, 30), datetime.date(1869, 1, 31), datetime.date(1869, 2, 1), datetime.date(1869, 2, 2), datetime.date(1869, 2, 3), datetime.date(1869, 2, 4), datetime.date(1869, 2, 5), datetime.date(1869, 2, 6), datetime.date(1869, 2, 7), datetime.date(1869, 2, 8), datetime.date(1869, 2, 9), datetime.date(1869, 2, 10), datetime.date(1869, 2, 11), datetime.date(1869, 2, 12), datetime.date(1869, 2, 13), datetime.date(1869, 2, 14), datetime.date(1869, 2, 15), datetime.date(1869, 2, 16), datetime.date(1869, 2, 17), datetime.date(1869, 2, 18), datetime.date(1869, 2, 19), datetime.date(1869, 2, 20), datetime.date(1869, 2, 21), datetime.date(1869, 2, 22), datetime.date(1869, 2, 23), datetime.date(1869, 2, 24), datetime.date(1869, 2, 25), datetime.date(1869, 2, 26), datetime.date(1869, 2, 27), datetime.date(1869, 2, 28), datetime.date(1869, 3, 1), datetime.date(1869, 3, 2), datetime.date(1869, 3, 3), datetime.date(1869, 3, 4), datetime.date(1869, 3, 5), datetime.date(1869, 3, 6), datetime.date(1869, 3, 7), datetime.date(1869, 3, 8), datetime.date(1869, 3, 9), datetime.date(1869, 3, 10), datetime.date(1869, 3, 11), datetime.date(1869, 3, 12), datetime.date(1869, 3, 13), datetime.date(1869, 3, 14), datetime.date(1869, 3, 15), datetime.date(1869, 3, 16), datetime.date(1869, 3, 17), datetime.date(1869, 3, 18), datetime.date(1869, 3, 19), datetime.date(1869, 3, 20), datetime.date(1869, 3, 21), datetime.date(1869, 3, 22), datetime.date(1869, 3, 23), datetime.date(1869, 3, 24), datetime.date(1869, 3, 25), datetime.date(1869, 3, 26), datetime.date(1869, 3, 27), datetime.date(1869, 3, 28), datetime.date(1869, 3, 29), datetime.date(1869, 3, 30), datetime.date(1869, 3, 31), datetime.date(1869, 4, 1), datetime.date(1869, 4, 2), datetime.date(1869, 4, 3), datetime.date(1869, 4, 4), datetime.date(1869, 4, 5), datetime.date(1869, 4, 6), datetime.date(1869, 4, 7), datetime.date(1869, 4, 8), datetime.date(1869, 4, 9), datetime.date(1869, 4, 10), datetime.date(1869, 4, 11), datetime.date(1869, 4, 12), datetime.date(1869, 4, 13), datetime.date(1869, 4, 14), datetime.date(1869, 4, 15), datetime.date(1869, 4, 16), datetime.date(1869, 4, 17), datetime.date(1869, 4, 18), datetime.date(1869, 4, 19), datetime.date(1869, 4, 20), datetime.date(1869, 4, 21), datetime.date(1869, 4, 22), datetime.date(1869, 4, 23), datetime.date(1869, 4, 24), datetime.date(1869, 4, 25), datetime.date(1869, 4, 26), datetime.date(1869, 4, 27), datetime.date(1869, 4, 28), datetime.date(1869, 4, 29), datetime.date(1869, 4, 30), datetime.date(1869, 5, 1), datetime.date(1869, 5, 2), datetime.date(1869, 5, 3), datetime.date(1869, 5, 4), datetime.date(1869, 5, 5), datetime.date(1869, 5, 6), datetime.date(1869, 5, 7), datetime.date(1869, 5, 8), datetime.date(1869, 5, 9), datetime.date(1869, 5, 10), datetime.date(1869, 5, 11), datetime.date(1869, 5, 12), datetime.date(1869, 5, 13), datetime.date(1869, 5, 14), datetime.date(1869, 5, 15), datetime.date(1869, 5, 16), datetime.date(1869, 5, 17), datetime.date(1869, 5, 18), datetime.date(1869, 5, 19), datetime.date(1869, 5, 20), datetime.date(1869, 5, 21), datetime.date(1869, 5, 22), datetime.date(1869, 5, 23), datetime.date(1869, 5, 24), datetime.date(1869, 5, 25), datetime.date(1869, 5, 26), datetime.date(1869, 5, 27), datetime.date(1869, 5, 28), datetime.date(1869, 5, 29), datetime.date(1869, 5, 30), datetime.date(1869, 5, 31), datetime.date(1869, 6, 1), datetime.date(1869, 6, 2), datetime.date(1869, 6, 3), datetime.date(1869, 6, 4), datetime.date(1869, 6, 5), datetime.date(1869, 6, 6), datetime.date(1869, 6, 7), datetime.date(1869, 6, 8), datetime.date(1869, 6, 9), datetime.date(1869, 6, 10), datetime.date(1869, 6, 11), datetime.date(1869, 6, 12), datetime.date(1869, 6, 13), datetime.date(1869, 6, 14), datetime.date(1869, 6, 15), datetime.date(1869, 6, 16), datetime.date(1869, 6, 17), datetime.date(1869, 6, 18), datetime.date(1869, 6, 19), datetime.date(1869, 6, 20), datetime.date(1869, 6, 21), datetime.date(1869, 6, 22), datetime.date(1869, 6, 23), datetime.date(1869, 6, 24), datetime.date(1869, 6, 25), datetime.date(1869, 6, 26), datetime.date(1869, 6, 27), datetime.date(1869, 6, 28), datetime.date(1869, 6, 29), datetime.date(1869, 6, 30), datetime.date(1869, 7, 1), datetime.date(1869, 7, 2), datetime.date(1869, 7, 3), datetime.date(1869, 7, 4), datetime.date(1869, 7, 5), datetime.date(1869, 7, 6), datetime.date(1869, 7, 7), datetime.date(1869, 7, 8), datetime.date(1869, 7, 9), datetime.date(1869, 7, 10), datetime.date(1869, 7, 11), datetime.date(1869, 7, 12), datetime.date(1869, 7, 13), datetime.date(1869, 7, 14), datetime.date(1869, 7, 15), datetime.date(1869, 7, 16), datetime.date(1869, 7, 17), datetime.date(1869, 7, 18), datetime.date(1869, 7, 19), datetime.date(1869, 7, 20), datetime.date(1869, 7, 21), datetime.date(1869, 7, 22), datetime.date(1869, 7, 23), datetime.date(1869, 7, 24), datetime.date(1869, 7, 25), datetime.date(1869, 7, 26), datetime.date(1869, 7, 27), datetime.date(1869, 7, 28), datetime.date(1869, 7, 29), datetime.date(1869, 7, 30), datetime.date(1869, 7, 31), datetime.date(1869, 8, 1), datetime.date(1869, 8, 2), datetime.date(1869, 8, 3), datetime.date(1869, 8, 4), datetime.date(1869, 8, 5), datetime.date(1869, 8, 6), datetime.date(1869, 8, 7), datetime.date(1869, 8, 8), datetime.date(1869, 8, 9), datetime.date(1869, 8, 10), datetime.date(1869, 8, 11), datetime.date(1869, 8, 12), datetime.date(1869, 8, 13), datetime.date(1869, 8, 14), datetime.date(1869, 8, 15), datetime.date(1869, 8, 16), datetime.date(1869, 8, 17), datetime.date(1869, 8, 18), datetime.date(1869, 8, 19), datetime.date(1869, 8, 20), datetime.date(1869, 8, 21), datetime.date(1869, 8, 22), datetime.date(1869, 8, 23), datetime.date(1869, 8, 24), datetime.date(1869, 8, 25), datetime.date(1869, 8, 26), datetime.date(1869, 8, 27), datetime.date(1869, 8, 28), datetime.date(1869, 8, 29), datetime.date(1869, 8, 30), datetime.date(1869, 8, 31), datetime.date(1869, 9, 1), datetime.date(1869, 9, 2), datetime.date(1869, 9, 3), datetime.date(1869, 9, 4), datetime.date(1869, 9, 5), datetime.date(1869, 9, 6), datetime.date(1869, 9, 7), datetime.date(1869, 9, 8), datetime.date(1869, 9, 9), datetime.date(1869, 9, 10), datetime.date(1869, 9, 11), datetime.date(1869, 9, 12), datetime.date(1869, 9, 13), datetime.date(1869, 9, 14), datetime.date(1869, 9, 15), datetime.date(1869, 9, 16), datetime.date(1869, 9, 17), datetime.date(1869, 9, 18), datetime.date(1869, 9, 19), datetime.date(1869, 9, 20), datetime.date(1869, 9, 21), datetime.date(1869, 9, 22), datetime.date(1869, 9, 23), datetime.date(1869, 9, 24), datetime.date(1869, 9, 25), datetime.date(1869, 9, 26), datetime.date(1869, 9, 27), datetime.date(1869, 9, 28), datetime.date(1869, 9, 29), datetime.date(1869, 9, 30), datetime.date(1869, 10, 1), datetime.date(1869, 10, 2)]\n"
          ]
        }
      ]
    },
    {
      "cell_type": "code",
      "source": [
        "date_list(d1, d2, string = True)"
      ],
      "metadata": {
        "colab": {
          "base_uri": "https://localhost:8080/"
        },
        "id": "agCCXm8dnET7",
        "outputId": "61dc18e7-049f-4be8-8bfd-0c0dcab643de"
      },
      "execution_count": 31,
      "outputs": [
        {
          "output_type": "stream",
          "name": "stdout",
          "text": [
            "['1869-01-02', '1869-01-03', '1869-01-04', '1869-01-05', '1869-01-06', '1869-01-07', '1869-01-08', '1869-01-09', '1869-01-10', '1869-01-11', '1869-01-12', '1869-01-13', '1869-01-14', '1869-01-15', '1869-01-16', '1869-01-17', '1869-01-18', '1869-01-19', '1869-01-20', '1869-01-21', '1869-01-22', '1869-01-23', '1869-01-24', '1869-01-25', '1869-01-26', '1869-01-27', '1869-01-28', '1869-01-29', '1869-01-30', '1869-01-31', '1869-02-01', '1869-02-02', '1869-02-03', '1869-02-04', '1869-02-05', '1869-02-06', '1869-02-07', '1869-02-08', '1869-02-09', '1869-02-10', '1869-02-11', '1869-02-12', '1869-02-13', '1869-02-14', '1869-02-15', '1869-02-16', '1869-02-17', '1869-02-18', '1869-02-19', '1869-02-20', '1869-02-21', '1869-02-22', '1869-02-23', '1869-02-24', '1869-02-25', '1869-02-26', '1869-02-27', '1869-02-28', '1869-03-01', '1869-03-02', '1869-03-03', '1869-03-04', '1869-03-05', '1869-03-06', '1869-03-07', '1869-03-08', '1869-03-09', '1869-03-10', '1869-03-11', '1869-03-12', '1869-03-13', '1869-03-14', '1869-03-15', '1869-03-16', '1869-03-17', '1869-03-18', '1869-03-19', '1869-03-20', '1869-03-21', '1869-03-22', '1869-03-23', '1869-03-24', '1869-03-25', '1869-03-26', '1869-03-27', '1869-03-28', '1869-03-29', '1869-03-30', '1869-03-31', '1869-04-01', '1869-04-02', '1869-04-03', '1869-04-04', '1869-04-05', '1869-04-06', '1869-04-07', '1869-04-08', '1869-04-09', '1869-04-10', '1869-04-11', '1869-04-12', '1869-04-13', '1869-04-14', '1869-04-15', '1869-04-16', '1869-04-17', '1869-04-18', '1869-04-19', '1869-04-20', '1869-04-21', '1869-04-22', '1869-04-23', '1869-04-24', '1869-04-25', '1869-04-26', '1869-04-27', '1869-04-28', '1869-04-29', '1869-04-30', '1869-05-01', '1869-05-02', '1869-05-03', '1869-05-04', '1869-05-05', '1869-05-06', '1869-05-07', '1869-05-08', '1869-05-09', '1869-05-10', '1869-05-11', '1869-05-12', '1869-05-13', '1869-05-14', '1869-05-15', '1869-05-16', '1869-05-17', '1869-05-18', '1869-05-19', '1869-05-20', '1869-05-21', '1869-05-22', '1869-05-23', '1869-05-24', '1869-05-25', '1869-05-26', '1869-05-27', '1869-05-28', '1869-05-29', '1869-05-30', '1869-05-31', '1869-06-01', '1869-06-02', '1869-06-03', '1869-06-04', '1869-06-05', '1869-06-06', '1869-06-07', '1869-06-08', '1869-06-09', '1869-06-10', '1869-06-11', '1869-06-12', '1869-06-13', '1869-06-14', '1869-06-15', '1869-06-16', '1869-06-17', '1869-06-18', '1869-06-19', '1869-06-20', '1869-06-21', '1869-06-22', '1869-06-23', '1869-06-24', '1869-06-25', '1869-06-26', '1869-06-27', '1869-06-28', '1869-06-29', '1869-06-30', '1869-07-01', '1869-07-02', '1869-07-03', '1869-07-04', '1869-07-05', '1869-07-06', '1869-07-07', '1869-07-08', '1869-07-09', '1869-07-10', '1869-07-11', '1869-07-12', '1869-07-13', '1869-07-14', '1869-07-15', '1869-07-16', '1869-07-17', '1869-07-18', '1869-07-19', '1869-07-20', '1869-07-21', '1869-07-22', '1869-07-23', '1869-07-24', '1869-07-25', '1869-07-26', '1869-07-27', '1869-07-28', '1869-07-29', '1869-07-30', '1869-07-31', '1869-08-01', '1869-08-02', '1869-08-03', '1869-08-04', '1869-08-05', '1869-08-06', '1869-08-07', '1869-08-08', '1869-08-09', '1869-08-10', '1869-08-11', '1869-08-12', '1869-08-13', '1869-08-14', '1869-08-15', '1869-08-16', '1869-08-17', '1869-08-18', '1869-08-19', '1869-08-20', '1869-08-21', '1869-08-22', '1869-08-23', '1869-08-24', '1869-08-25', '1869-08-26', '1869-08-27', '1869-08-28', '1869-08-29', '1869-08-30', '1869-08-31', '1869-09-01', '1869-09-02', '1869-09-03', '1869-09-04', '1869-09-05', '1869-09-06', '1869-09-07', '1869-09-08', '1869-09-09', '1869-09-10', '1869-09-11', '1869-09-12', '1869-09-13', '1869-09-14', '1869-09-15', '1869-09-16', '1869-09-17', '1869-09-18', '1869-09-19', '1869-09-20', '1869-09-21', '1869-09-22', '1869-09-23', '1869-09-24', '1869-09-25', '1869-09-26', '1869-09-27', '1869-09-28', '1869-09-29', '1869-09-30', '1869-10-01', '1869-10-02']\n"
          ]
        }
      ]
    },
    {
      "cell_type": "markdown",
      "source": [
        "### **Найти число определенных дней недели в списке дат с помощью isoweekday()**"
      ],
      "metadata": {
        "id": "Pby5lDJfsWsA"
      }
    },
    {
      "cell_type": "code",
      "source": [
        "d1 = datetime.date(1869, 1, 2)\n",
        "d2 = datetime.date(1869, 10, 2)\n",
        "\n",
        "dates_btw_d1d2 = date_list(d1, d2, string = False)"
      ],
      "metadata": {
        "id": "nYYvDYN8nEWi"
      },
      "execution_count": 42,
      "outputs": []
    },
    {
      "cell_type": "code",
      "source": [
        "n_saturdays = 0\n",
        "\n",
        "for d in dates_btw_d1d2:\n",
        "  n_saturdays += int(d.isoweekday() == 6)\n",
        "\n",
        "print(n_saturdays)"
      ],
      "metadata": {
        "colab": {
          "base_uri": "https://localhost:8080/"
        },
        "id": "jLpIpwVnnEZH",
        "outputId": "824be228-2354-4005-920b-6e6dd3716b23"
      },
      "execution_count": 43,
      "outputs": [
        {
          "output_type": "stream",
          "name": "stdout",
          "text": [
            "40\n"
          ]
        }
      ]
    },
    {
      "cell_type": "markdown",
      "source": [
        "#### Дополнительно"
      ],
      "metadata": {
        "id": "EdGUapBnvPb9"
      }
    },
    {
      "cell_type": "code",
      "source": [
        "bday = 'Sep 17, 1997'\n",
        "bdate = parse(bday)\n",
        "bdate"
      ],
      "metadata": {
        "colab": {
          "base_uri": "https://localhost:8080/"
        },
        "id": "CNnBaow-nEby",
        "outputId": "cc0a2a58-331d-4829-bb8c-736cad76e1db"
      },
      "execution_count": 45,
      "outputs": [
        {
          "output_type": "execute_result",
          "data": {
            "text/plain": [
              "datetime.datetime(1997, 9, 17, 0, 0)"
            ]
          },
          "metadata": {},
          "execution_count": 45
        }
      ]
    },
    {
      "cell_type": "code",
      "source": [
        "current_bdate = datetime.date(year = datetime.date.today().year, \n",
        "                              month = bdate.month,\n",
        "                              day = bdate.day)\n",
        "\n",
        "current_bdate"
      ],
      "metadata": {
        "colab": {
          "base_uri": "https://localhost:8080/"
        },
        "id": "Xlv-JhRLnEd4",
        "outputId": "e1653b42-9245-4786-bde1-c3b21f06b628"
      },
      "execution_count": 47,
      "outputs": [
        {
          "output_type": "execute_result",
          "data": {
            "text/plain": [
              "datetime.date(2022, 9, 17)"
            ]
          },
          "metadata": {},
          "execution_count": 47
        }
      ]
    },
    {
      "cell_type": "code",
      "source": [
        "td = current_bdate - datetime.date.today()\n",
        "\n",
        "td.days"
      ],
      "metadata": {
        "colab": {
          "base_uri": "https://localhost:8080/"
        },
        "id": "lLf-bdChnEgb",
        "outputId": "35a1df67-c84b-40da-a1b6-45c1639fa980"
      },
      "execution_count": 48,
      "outputs": [
        {
          "output_type": "execute_result",
          "data": {
            "text/plain": [
              "103"
            ]
          },
          "metadata": {},
          "execution_count": 48
        }
      ]
    },
    {
      "cell_type": "markdown",
      "source": [
        "### **Выделить квартальную часть с помощью f string**"
      ],
      "metadata": {
        "id": "jhrjinWXvJNq"
      }
    },
    {
      "cell_type": "code",
      "source": [
        "d1 = datetime.datetime(2010, 9, 28, 10, 40, 59)\n",
        "d1"
      ],
      "metadata": {
        "colab": {
          "base_uri": "https://localhost:8080/"
        },
        "id": "TRXWBK7AnEi3",
        "outputId": "bddb3d22-585b-4f41-cbfc-0cdf72fc9e89"
      },
      "execution_count": 49,
      "outputs": [
        {
          "output_type": "execute_result",
          "data": {
            "text/plain": [
              "datetime.datetime(2010, 9, 28, 10, 40, 59)"
            ]
          },
          "metadata": {},
          "execution_count": 49
        }
      ]
    },
    {
      "cell_type": "code",
      "source": [
        "f'{d1.year} - Q{d1.month//4+1}'"
      ],
      "metadata": {
        "colab": {
          "base_uri": "https://localhost:8080/",
          "height": 0
        },
        "id": "sVXLi1KFnEk3",
        "outputId": "70eef0b9-5e46-44df-8cbd-1937212f8ded"
      },
      "execution_count": 51,
      "outputs": [
        {
          "output_type": "execute_result",
          "data": {
            "text/plain": [
              "'2010 - Q3'"
            ],
            "application/vnd.google.colaboratory.intrinsic+json": {
              "type": "string"
            }
          },
          "metadata": {},
          "execution_count": 51
        }
      ]
    },
    {
      "cell_type": "markdown",
      "source": [
        "### **Из ряда дат выбрать мин и макс и создать список на их основе**"
      ],
      "metadata": {
        "id": "GYXdRFHpve3r"
      }
    },
    {
      "cell_type": "code",
      "source": [
        "datestrings = ['Oct 2, 1869', 'Oct 5, 1869', 'Oct 7, 1869', 'Oct 9, 1869']\n",
        "\n",
        "# Solution\n",
        "import datetime\n",
        "from dateutil.parser import parse\n",
        "import numpy as np\n",
        "\n",
        "dates = [parse(d) for d in datestrings]\n",
        "\n",
        "d1 = np.min(dates)\n",
        "d2 = np.max(dates)\n",
        "\n",
        "delta = d2 - d1  # timedelta\n",
        "\n",
        "# Get all dates \n",
        "dates_btw_d1d2 = [(d1 + datetime.timedelta(i)).strftime('%b %d, %Y') for i in range(delta.days + 1)]\n",
        "print(dates_btw_d1d2)"
      ],
      "metadata": {
        "colab": {
          "base_uri": "https://localhost:8080/"
        },
        "id": "QHlzbzhEvezn",
        "outputId": "94fdc583-0531-44a8-915e-90a412e287aa"
      },
      "execution_count": 52,
      "outputs": [
        {
          "output_type": "stream",
          "name": "stdout",
          "text": [
            "['Oct 02, 1869', 'Oct 03, 1869', 'Oct 04, 1869', 'Oct 05, 1869', 'Oct 06, 1869', 'Oct 07, 1869', 'Oct 08, 1869', 'Oct 09, 1869']\n"
          ]
        }
      ]
    },
    {
      "cell_type": "markdown",
      "source": [
        ">>>> ## **Типовые задачи в Pandas**"
      ],
      "metadata": {
        "id": "aFCtNIVD2Ucb"
      }
    },
    {
      "cell_type": "code",
      "source": [
        "import pandas as pd\n",
        "\n",
        "df1 = pd.DataFrame({'City': ['Singapore','London','HongKong','Paris','Moscow'],\n",
        "                   'City Population': [563, 898, 745, 215, 1192],\n",
        "                   'City Area': [721.5, 1572, 1106, 105.4, 2511],\n",
        "                   'Currency':['SGD','GBP','HKD','EUR','RUB'],\n",
        "                   'Continent':['Asia','Europe','Asia','Europe','Europe'],\n",
        "                   'Main Language': ['English','English','Chinese','French','Russian']})\n",
        "\n",
        "df = pd.DataFrame({'DATE': [1, 2, 3, 4, 5],\n",
        "                   'VOLUME': [100, 200, 300,400,500],\n",
        "                   'PRICE': [214, 234, 253,272,291]})"
      ],
      "metadata": {
        "id": "hsfaGhX920LD"
      },
      "execution_count": 54,
      "outputs": []
    },
    {
      "cell_type": "markdown",
      "source": [
        "### **Добавить столбец в определенном месте с помощью INSERT**"
      ],
      "metadata": {
        "id": "--BNglSr25FK"
      }
    },
    {
      "cell_type": "code",
      "source": [
        "df1.insert(loc=3, column='Population density', value=(df1['City Population']/df1['City Area']))\n"
      ],
      "metadata": {
        "id": "cdgGJI9H20JG"
      },
      "execution_count": null,
      "outputs": []
    },
    {
      "cell_type": "markdown",
      "source": [
        "### Найти уникальные значения value_counts()"
      ],
      "metadata": {
        "id": "aOkmGDnB3e_T"
      }
    },
    {
      "cell_type": "code",
      "source": [
        "df1['Currency'].value_counts()"
      ],
      "metadata": {
        "colab": {
          "base_uri": "https://localhost:8080/"
        },
        "id": "KJ1UC8bY20Gy",
        "outputId": "2a1d2486-6b6c-4d80-812f-e74a30b7dec5"
      },
      "execution_count": 58,
      "outputs": [
        {
          "output_type": "execute_result",
          "data": {
            "text/plain": [
              "SGD    1\n",
              "GBP    1\n",
              "HKD    1\n",
              "EUR    1\n",
              "RUB    1\n",
              "Name: Currency, dtype: int64"
            ]
          },
          "metadata": {},
          "execution_count": 58
        }
      ]
    },
    {
      "cell_type": "markdown",
      "source": [
        "### **Выбрать столбцы определенного типа с помощью select_dtypes**\n",
        "\n",
        "include = ['..']\n",
        "\n",
        "exclude = ['..']"
      ],
      "metadata": {
        "id": "yCG4Leej3q_K"
      }
    },
    {
      "cell_type": "code",
      "source": [
        "df1.dtypes"
      ],
      "metadata": {
        "colab": {
          "base_uri": "https://localhost:8080/"
        },
        "id": "dY0t4tLE20EJ",
        "outputId": "1603800a-602a-4342-c91e-6bd314d3a9e4"
      },
      "execution_count": 60,
      "outputs": [
        {
          "output_type": "execute_result",
          "data": {
            "text/plain": [
              "City                   object\n",
              "City Population         int64\n",
              "City Area             float64\n",
              "Population density    float64\n",
              "Currency               object\n",
              "Continent              object\n",
              "Main Language          object\n",
              "dtype: object"
            ]
          },
          "metadata": {},
          "execution_count": 60
        }
      ]
    },
    {
      "cell_type": "code",
      "source": [
        "df1.select_dtypes(include = 'float')"
      ],
      "metadata": {
        "colab": {
          "base_uri": "https://localhost:8080/",
          "height": 0
        },
        "id": "mXcqn7lHnEnZ",
        "outputId": "86f630e9-37ca-49ad-a861-85a87644919c"
      },
      "execution_count": 61,
      "outputs": [
        {
          "output_type": "execute_result",
          "data": {
            "text/plain": [
              "   City Area  Population density\n",
              "0      721.5            0.780319\n",
              "1     1572.0            0.571247\n",
              "2     1106.0            0.673599\n",
              "3      105.4            2.039848\n",
              "4     2511.0            0.474711"
            ],
            "text/html": [
              "\n",
              "  <div id=\"df-9ec992c7-679c-482e-a449-981983e580a3\">\n",
              "    <div class=\"colab-df-container\">\n",
              "      <div>\n",
              "<style scoped>\n",
              "    .dataframe tbody tr th:only-of-type {\n",
              "        vertical-align: middle;\n",
              "    }\n",
              "\n",
              "    .dataframe tbody tr th {\n",
              "        vertical-align: top;\n",
              "    }\n",
              "\n",
              "    .dataframe thead th {\n",
              "        text-align: right;\n",
              "    }\n",
              "</style>\n",
              "<table border=\"1\" class=\"dataframe\">\n",
              "  <thead>\n",
              "    <tr style=\"text-align: right;\">\n",
              "      <th></th>\n",
              "      <th>City Area</th>\n",
              "      <th>Population density</th>\n",
              "    </tr>\n",
              "  </thead>\n",
              "  <tbody>\n",
              "    <tr>\n",
              "      <th>0</th>\n",
              "      <td>721.5</td>\n",
              "      <td>0.780319</td>\n",
              "    </tr>\n",
              "    <tr>\n",
              "      <th>1</th>\n",
              "      <td>1572.0</td>\n",
              "      <td>0.571247</td>\n",
              "    </tr>\n",
              "    <tr>\n",
              "      <th>2</th>\n",
              "      <td>1106.0</td>\n",
              "      <td>0.673599</td>\n",
              "    </tr>\n",
              "    <tr>\n",
              "      <th>3</th>\n",
              "      <td>105.4</td>\n",
              "      <td>2.039848</td>\n",
              "    </tr>\n",
              "    <tr>\n",
              "      <th>4</th>\n",
              "      <td>2511.0</td>\n",
              "      <td>0.474711</td>\n",
              "    </tr>\n",
              "  </tbody>\n",
              "</table>\n",
              "</div>\n",
              "      <button class=\"colab-df-convert\" onclick=\"convertToInteractive('df-9ec992c7-679c-482e-a449-981983e580a3')\"\n",
              "              title=\"Convert this dataframe to an interactive table.\"\n",
              "              style=\"display:none;\">\n",
              "        \n",
              "  <svg xmlns=\"http://www.w3.org/2000/svg\" height=\"24px\"viewBox=\"0 0 24 24\"\n",
              "       width=\"24px\">\n",
              "    <path d=\"M0 0h24v24H0V0z\" fill=\"none\"/>\n",
              "    <path d=\"M18.56 5.44l.94 2.06.94-2.06 2.06-.94-2.06-.94-.94-2.06-.94 2.06-2.06.94zm-11 1L8.5 8.5l.94-2.06 2.06-.94-2.06-.94L8.5 2.5l-.94 2.06-2.06.94zm10 10l.94 2.06.94-2.06 2.06-.94-2.06-.94-.94-2.06-.94 2.06-2.06.94z\"/><path d=\"M17.41 7.96l-1.37-1.37c-.4-.4-.92-.59-1.43-.59-.52 0-1.04.2-1.43.59L10.3 9.45l-7.72 7.72c-.78.78-.78 2.05 0 2.83L4 21.41c.39.39.9.59 1.41.59.51 0 1.02-.2 1.41-.59l7.78-7.78 2.81-2.81c.8-.78.8-2.07 0-2.86zM5.41 20L4 18.59l7.72-7.72 1.47 1.35L5.41 20z\"/>\n",
              "  </svg>\n",
              "      </button>\n",
              "      \n",
              "  <style>\n",
              "    .colab-df-container {\n",
              "      display:flex;\n",
              "      flex-wrap:wrap;\n",
              "      gap: 12px;\n",
              "    }\n",
              "\n",
              "    .colab-df-convert {\n",
              "      background-color: #E8F0FE;\n",
              "      border: none;\n",
              "      border-radius: 50%;\n",
              "      cursor: pointer;\n",
              "      display: none;\n",
              "      fill: #1967D2;\n",
              "      height: 32px;\n",
              "      padding: 0 0 0 0;\n",
              "      width: 32px;\n",
              "    }\n",
              "\n",
              "    .colab-df-convert:hover {\n",
              "      background-color: #E2EBFA;\n",
              "      box-shadow: 0px 1px 2px rgba(60, 64, 67, 0.3), 0px 1px 3px 1px rgba(60, 64, 67, 0.15);\n",
              "      fill: #174EA6;\n",
              "    }\n",
              "\n",
              "    [theme=dark] .colab-df-convert {\n",
              "      background-color: #3B4455;\n",
              "      fill: #D2E3FC;\n",
              "    }\n",
              "\n",
              "    [theme=dark] .colab-df-convert:hover {\n",
              "      background-color: #434B5C;\n",
              "      box-shadow: 0px 1px 3px 1px rgba(0, 0, 0, 0.15);\n",
              "      filter: drop-shadow(0px 1px 2px rgba(0, 0, 0, 0.3));\n",
              "      fill: #FFFFFF;\n",
              "    }\n",
              "  </style>\n",
              "\n",
              "      <script>\n",
              "        const buttonEl =\n",
              "          document.querySelector('#df-9ec992c7-679c-482e-a449-981983e580a3 button.colab-df-convert');\n",
              "        buttonEl.style.display =\n",
              "          google.colab.kernel.accessAllowed ? 'block' : 'none';\n",
              "\n",
              "        async function convertToInteractive(key) {\n",
              "          const element = document.querySelector('#df-9ec992c7-679c-482e-a449-981983e580a3');\n",
              "          const dataTable =\n",
              "            await google.colab.kernel.invokeFunction('convertToInteractive',\n",
              "                                                     [key], {});\n",
              "          if (!dataTable) return;\n",
              "\n",
              "          const docLinkHtml = 'Like what you see? Visit the ' +\n",
              "            '<a target=\"_blank\" href=https://colab.research.google.com/notebooks/data_table.ipynb>data table notebook</a>'\n",
              "            + ' to learn more about interactive tables.';\n",
              "          element.innerHTML = '';\n",
              "          dataTable['output_type'] = 'display_data';\n",
              "          await google.colab.output.renderOutput(dataTable, element);\n",
              "          const docLink = document.createElement('div');\n",
              "          docLink.innerHTML = docLinkHtml;\n",
              "          element.appendChild(docLink);\n",
              "        }\n",
              "      </script>\n",
              "    </div>\n",
              "  </div>\n",
              "  "
            ]
          },
          "metadata": {},
          "execution_count": 61
        }
      ]
    },
    {
      "cell_type": "code",
      "source": [
        "df1.select_dtypes(exclude=['int64','float64'])"
      ],
      "metadata": {
        "colab": {
          "base_uri": "https://localhost:8080/",
          "height": 0
        },
        "id": "6TbZPcwq352s",
        "outputId": "786ffe0c-1cea-4fe6-98ea-5a2f837eb4fd"
      },
      "execution_count": 62,
      "outputs": [
        {
          "output_type": "execute_result",
          "data": {
            "text/plain": [
              "        City Currency Continent Main Language\n",
              "0  Singapore      SGD      Asia       English\n",
              "1     London      GBP    Europe       English\n",
              "2   HongKong      HKD      Asia       Chinese\n",
              "3      Paris      EUR    Europe        French\n",
              "4     Moscow      RUB    Europe       Russian"
            ],
            "text/html": [
              "\n",
              "  <div id=\"df-8e169c52-1dd6-416a-91a6-f74e297ac1ea\">\n",
              "    <div class=\"colab-df-container\">\n",
              "      <div>\n",
              "<style scoped>\n",
              "    .dataframe tbody tr th:only-of-type {\n",
              "        vertical-align: middle;\n",
              "    }\n",
              "\n",
              "    .dataframe tbody tr th {\n",
              "        vertical-align: top;\n",
              "    }\n",
              "\n",
              "    .dataframe thead th {\n",
              "        text-align: right;\n",
              "    }\n",
              "</style>\n",
              "<table border=\"1\" class=\"dataframe\">\n",
              "  <thead>\n",
              "    <tr style=\"text-align: right;\">\n",
              "      <th></th>\n",
              "      <th>City</th>\n",
              "      <th>Currency</th>\n",
              "      <th>Continent</th>\n",
              "      <th>Main Language</th>\n",
              "    </tr>\n",
              "  </thead>\n",
              "  <tbody>\n",
              "    <tr>\n",
              "      <th>0</th>\n",
              "      <td>Singapore</td>\n",
              "      <td>SGD</td>\n",
              "      <td>Asia</td>\n",
              "      <td>English</td>\n",
              "    </tr>\n",
              "    <tr>\n",
              "      <th>1</th>\n",
              "      <td>London</td>\n",
              "      <td>GBP</td>\n",
              "      <td>Europe</td>\n",
              "      <td>English</td>\n",
              "    </tr>\n",
              "    <tr>\n",
              "      <th>2</th>\n",
              "      <td>HongKong</td>\n",
              "      <td>HKD</td>\n",
              "      <td>Asia</td>\n",
              "      <td>Chinese</td>\n",
              "    </tr>\n",
              "    <tr>\n",
              "      <th>3</th>\n",
              "      <td>Paris</td>\n",
              "      <td>EUR</td>\n",
              "      <td>Europe</td>\n",
              "      <td>French</td>\n",
              "    </tr>\n",
              "    <tr>\n",
              "      <th>4</th>\n",
              "      <td>Moscow</td>\n",
              "      <td>RUB</td>\n",
              "      <td>Europe</td>\n",
              "      <td>Russian</td>\n",
              "    </tr>\n",
              "  </tbody>\n",
              "</table>\n",
              "</div>\n",
              "      <button class=\"colab-df-convert\" onclick=\"convertToInteractive('df-8e169c52-1dd6-416a-91a6-f74e297ac1ea')\"\n",
              "              title=\"Convert this dataframe to an interactive table.\"\n",
              "              style=\"display:none;\">\n",
              "        \n",
              "  <svg xmlns=\"http://www.w3.org/2000/svg\" height=\"24px\"viewBox=\"0 0 24 24\"\n",
              "       width=\"24px\">\n",
              "    <path d=\"M0 0h24v24H0V0z\" fill=\"none\"/>\n",
              "    <path d=\"M18.56 5.44l.94 2.06.94-2.06 2.06-.94-2.06-.94-.94-2.06-.94 2.06-2.06.94zm-11 1L8.5 8.5l.94-2.06 2.06-.94-2.06-.94L8.5 2.5l-.94 2.06-2.06.94zm10 10l.94 2.06.94-2.06 2.06-.94-2.06-.94-.94-2.06-.94 2.06-2.06.94z\"/><path d=\"M17.41 7.96l-1.37-1.37c-.4-.4-.92-.59-1.43-.59-.52 0-1.04.2-1.43.59L10.3 9.45l-7.72 7.72c-.78.78-.78 2.05 0 2.83L4 21.41c.39.39.9.59 1.41.59.51 0 1.02-.2 1.41-.59l7.78-7.78 2.81-2.81c.8-.78.8-2.07 0-2.86zM5.41 20L4 18.59l7.72-7.72 1.47 1.35L5.41 20z\"/>\n",
              "  </svg>\n",
              "      </button>\n",
              "      \n",
              "  <style>\n",
              "    .colab-df-container {\n",
              "      display:flex;\n",
              "      flex-wrap:wrap;\n",
              "      gap: 12px;\n",
              "    }\n",
              "\n",
              "    .colab-df-convert {\n",
              "      background-color: #E8F0FE;\n",
              "      border: none;\n",
              "      border-radius: 50%;\n",
              "      cursor: pointer;\n",
              "      display: none;\n",
              "      fill: #1967D2;\n",
              "      height: 32px;\n",
              "      padding: 0 0 0 0;\n",
              "      width: 32px;\n",
              "    }\n",
              "\n",
              "    .colab-df-convert:hover {\n",
              "      background-color: #E2EBFA;\n",
              "      box-shadow: 0px 1px 2px rgba(60, 64, 67, 0.3), 0px 1px 3px 1px rgba(60, 64, 67, 0.15);\n",
              "      fill: #174EA6;\n",
              "    }\n",
              "\n",
              "    [theme=dark] .colab-df-convert {\n",
              "      background-color: #3B4455;\n",
              "      fill: #D2E3FC;\n",
              "    }\n",
              "\n",
              "    [theme=dark] .colab-df-convert:hover {\n",
              "      background-color: #434B5C;\n",
              "      box-shadow: 0px 1px 3px 1px rgba(0, 0, 0, 0.15);\n",
              "      filter: drop-shadow(0px 1px 2px rgba(0, 0, 0, 0.3));\n",
              "      fill: #FFFFFF;\n",
              "    }\n",
              "  </style>\n",
              "\n",
              "      <script>\n",
              "        const buttonEl =\n",
              "          document.querySelector('#df-8e169c52-1dd6-416a-91a6-f74e297ac1ea button.colab-df-convert');\n",
              "        buttonEl.style.display =\n",
              "          google.colab.kernel.accessAllowed ? 'block' : 'none';\n",
              "\n",
              "        async function convertToInteractive(key) {\n",
              "          const element = document.querySelector('#df-8e169c52-1dd6-416a-91a6-f74e297ac1ea');\n",
              "          const dataTable =\n",
              "            await google.colab.kernel.invokeFunction('convertToInteractive',\n",
              "                                                     [key], {});\n",
              "          if (!dataTable) return;\n",
              "\n",
              "          const docLinkHtml = 'Like what you see? Visit the ' +\n",
              "            '<a target=\"_blank\" href=https://colab.research.google.com/notebooks/data_table.ipynb>data table notebook</a>'\n",
              "            + ' to learn more about interactive tables.';\n",
              "          element.innerHTML = '';\n",
              "          dataTable['output_type'] = 'display_data';\n",
              "          await google.colab.output.renderOutput(dataTable, element);\n",
              "          const docLink = document.createElement('div');\n",
              "          docLink.innerHTML = docLinkHtml;\n",
              "          element.appendChild(docLink);\n",
              "        }\n",
              "      </script>\n",
              "    </div>\n",
              "  </div>\n",
              "  "
            ]
          },
          "metadata": {},
          "execution_count": 62
        }
      ]
    },
    {
      "cell_type": "markdown",
      "source": [
        "### **mask() для условия if-else**\n",
        "\n"
      ],
      "metadata": {
        "id": "gzed8Xsr4WeK"
      }
    },
    {
      "cell_type": "markdown",
      "source": [
        "Метод mask() представляет собой применение условия if-then для каждого элемента серий или датафрейма. \n",
        "\n",
        "Если cond равно True, то используется значение из other (значение по умолчанию  —  NaN), в противном случае сохраняется исходное значение. Данный метод аналогичен where()"
      ],
      "metadata": {
        "id": "kY6moYio4F2b"
      }
    },
    {
      "cell_type": "code",
      "source": [
        "import numpy as np"
      ],
      "metadata": {
        "id": "saDa3fsR4miC"
      },
      "execution_count": 63,
      "outputs": []
    },
    {
      "cell_type": "markdown",
      "source": [
        "Обратимся к датафрейму, в котором нужно изменить знак всех элементов, кратных двум без остатка."
      ],
      "metadata": {
        "id": "tTNook1H4ynd"
      }
    },
    {
      "cell_type": "code",
      "source": [
        "df = pd.DataFrame(np.arange(15).reshape(-1, 3), columns = ['A', 'B', 'C'])\n",
        "\n",
        "print(df)"
      ],
      "metadata": {
        "colab": {
          "base_uri": "https://localhost:8080/"
        },
        "id": "gIH-uHoF357Y",
        "outputId": "b807adeb-c8f1-44b0-dd65-11c6c1294972"
      },
      "execution_count": 65,
      "outputs": [
        {
          "output_type": "stream",
          "name": "stdout",
          "text": [
            "    A   B   C\n",
            "0   0   1   2\n",
            "1   3   4   5\n",
            "2   6   7   8\n",
            "3   9  10  11\n",
            "4  12  13  14\n"
          ]
        }
      ]
    },
    {
      "cell_type": "code",
      "source": [
        "df.mask(df % 2==0, - df)"
      ],
      "metadata": {
        "colab": {
          "base_uri": "https://localhost:8080/",
          "height": 0
        },
        "id": "_GZ1R50a41Hw",
        "outputId": "fe606194-95c7-4423-9a7b-6935d49e05cf"
      },
      "execution_count": 66,
      "outputs": [
        {
          "output_type": "execute_result",
          "data": {
            "text/plain": [
              "    A   B   C\n",
              "0   0   1  -2\n",
              "1   3  -4   5\n",
              "2  -6   7  -8\n",
              "3   9 -10  11\n",
              "4 -12  13 -14"
            ],
            "text/html": [
              "\n",
              "  <div id=\"df-bd442871-c605-4dc5-a1b4-fc41c7aafa31\">\n",
              "    <div class=\"colab-df-container\">\n",
              "      <div>\n",
              "<style scoped>\n",
              "    .dataframe tbody tr th:only-of-type {\n",
              "        vertical-align: middle;\n",
              "    }\n",
              "\n",
              "    .dataframe tbody tr th {\n",
              "        vertical-align: top;\n",
              "    }\n",
              "\n",
              "    .dataframe thead th {\n",
              "        text-align: right;\n",
              "    }\n",
              "</style>\n",
              "<table border=\"1\" class=\"dataframe\">\n",
              "  <thead>\n",
              "    <tr style=\"text-align: right;\">\n",
              "      <th></th>\n",
              "      <th>A</th>\n",
              "      <th>B</th>\n",
              "      <th>C</th>\n",
              "    </tr>\n",
              "  </thead>\n",
              "  <tbody>\n",
              "    <tr>\n",
              "      <th>0</th>\n",
              "      <td>0</td>\n",
              "      <td>1</td>\n",
              "      <td>-2</td>\n",
              "    </tr>\n",
              "    <tr>\n",
              "      <th>1</th>\n",
              "      <td>3</td>\n",
              "      <td>-4</td>\n",
              "      <td>5</td>\n",
              "    </tr>\n",
              "    <tr>\n",
              "      <th>2</th>\n",
              "      <td>-6</td>\n",
              "      <td>7</td>\n",
              "      <td>-8</td>\n",
              "    </tr>\n",
              "    <tr>\n",
              "      <th>3</th>\n",
              "      <td>9</td>\n",
              "      <td>-10</td>\n",
              "      <td>11</td>\n",
              "    </tr>\n",
              "    <tr>\n",
              "      <th>4</th>\n",
              "      <td>-12</td>\n",
              "      <td>13</td>\n",
              "      <td>-14</td>\n",
              "    </tr>\n",
              "  </tbody>\n",
              "</table>\n",
              "</div>\n",
              "      <button class=\"colab-df-convert\" onclick=\"convertToInteractive('df-bd442871-c605-4dc5-a1b4-fc41c7aafa31')\"\n",
              "              title=\"Convert this dataframe to an interactive table.\"\n",
              "              style=\"display:none;\">\n",
              "        \n",
              "  <svg xmlns=\"http://www.w3.org/2000/svg\" height=\"24px\"viewBox=\"0 0 24 24\"\n",
              "       width=\"24px\">\n",
              "    <path d=\"M0 0h24v24H0V0z\" fill=\"none\"/>\n",
              "    <path d=\"M18.56 5.44l.94 2.06.94-2.06 2.06-.94-2.06-.94-.94-2.06-.94 2.06-2.06.94zm-11 1L8.5 8.5l.94-2.06 2.06-.94-2.06-.94L8.5 2.5l-.94 2.06-2.06.94zm10 10l.94 2.06.94-2.06 2.06-.94-2.06-.94-.94-2.06-.94 2.06-2.06.94z\"/><path d=\"M17.41 7.96l-1.37-1.37c-.4-.4-.92-.59-1.43-.59-.52 0-1.04.2-1.43.59L10.3 9.45l-7.72 7.72c-.78.78-.78 2.05 0 2.83L4 21.41c.39.39.9.59 1.41.59.51 0 1.02-.2 1.41-.59l7.78-7.78 2.81-2.81c.8-.78.8-2.07 0-2.86zM5.41 20L4 18.59l7.72-7.72 1.47 1.35L5.41 20z\"/>\n",
              "  </svg>\n",
              "      </button>\n",
              "      \n",
              "  <style>\n",
              "    .colab-df-container {\n",
              "      display:flex;\n",
              "      flex-wrap:wrap;\n",
              "      gap: 12px;\n",
              "    }\n",
              "\n",
              "    .colab-df-convert {\n",
              "      background-color: #E8F0FE;\n",
              "      border: none;\n",
              "      border-radius: 50%;\n",
              "      cursor: pointer;\n",
              "      display: none;\n",
              "      fill: #1967D2;\n",
              "      height: 32px;\n",
              "      padding: 0 0 0 0;\n",
              "      width: 32px;\n",
              "    }\n",
              "\n",
              "    .colab-df-convert:hover {\n",
              "      background-color: #E2EBFA;\n",
              "      box-shadow: 0px 1px 2px rgba(60, 64, 67, 0.3), 0px 1px 3px 1px rgba(60, 64, 67, 0.15);\n",
              "      fill: #174EA6;\n",
              "    }\n",
              "\n",
              "    [theme=dark] .colab-df-convert {\n",
              "      background-color: #3B4455;\n",
              "      fill: #D2E3FC;\n",
              "    }\n",
              "\n",
              "    [theme=dark] .colab-df-convert:hover {\n",
              "      background-color: #434B5C;\n",
              "      box-shadow: 0px 1px 3px 1px rgba(0, 0, 0, 0.15);\n",
              "      filter: drop-shadow(0px 1px 2px rgba(0, 0, 0, 0.3));\n",
              "      fill: #FFFFFF;\n",
              "    }\n",
              "  </style>\n",
              "\n",
              "      <script>\n",
              "        const buttonEl =\n",
              "          document.querySelector('#df-bd442871-c605-4dc5-a1b4-fc41c7aafa31 button.colab-df-convert');\n",
              "        buttonEl.style.display =\n",
              "          google.colab.kernel.accessAllowed ? 'block' : 'none';\n",
              "\n",
              "        async function convertToInteractive(key) {\n",
              "          const element = document.querySelector('#df-bd442871-c605-4dc5-a1b4-fc41c7aafa31');\n",
              "          const dataTable =\n",
              "            await google.colab.kernel.invokeFunction('convertToInteractive',\n",
              "                                                     [key], {});\n",
              "          if (!dataTable) return;\n",
              "\n",
              "          const docLinkHtml = 'Like what you see? Visit the ' +\n",
              "            '<a target=\"_blank\" href=https://colab.research.google.com/notebooks/data_table.ipynb>data table notebook</a>'\n",
              "            + ' to learn more about interactive tables.';\n",
              "          element.innerHTML = '';\n",
              "          dataTable['output_type'] = 'display_data';\n",
              "          await google.colab.output.renderOutput(dataTable, element);\n",
              "          const docLink = document.createElement('div');\n",
              "          docLink.innerHTML = docLinkHtml;\n",
              "          element.appendChild(docLink);\n",
              "        }\n",
              "      </script>\n",
              "    </div>\n",
              "  </div>\n",
              "  "
            ]
          },
          "metadata": {},
          "execution_count": 66
        }
      ]
    },
    {
      "cell_type": "code",
      "source": [
        "s = pd.Series(range(5))\n",
        "s.where(s > 0 )"
      ],
      "metadata": {
        "colab": {
          "base_uri": "https://localhost:8080/"
        },
        "id": "ePJoy_hJ359q",
        "outputId": "1e788028-8120-4185-cae0-792d90fd14b3"
      },
      "execution_count": 69,
      "outputs": [
        {
          "output_type": "execute_result",
          "data": {
            "text/plain": [
              "0    NaN\n",
              "1    1.0\n",
              "2    2.0\n",
              "3    3.0\n",
              "4    4.0\n",
              "dtype: float64"
            ]
          },
          "metadata": {},
          "execution_count": 69
        }
      ]
    },
    {
      "cell_type": "code",
      "source": [
        "s.mask(s > 0)"
      ],
      "metadata": {
        "colab": {
          "base_uri": "https://localhost:8080/"
        },
        "id": "p9heTihi36AA",
        "outputId": "fb5ba9ef-1a43-47d8-9188-a7c0354f1143"
      },
      "execution_count": 70,
      "outputs": [
        {
          "output_type": "execute_result",
          "data": {
            "text/plain": [
              "0    0.0\n",
              "1    NaN\n",
              "2    NaN\n",
              "3    NaN\n",
              "4    NaN\n",
              "dtype: float64"
            ]
          },
          "metadata": {},
          "execution_count": 70
        }
      ]
    },
    {
      "cell_type": "code",
      "source": [
        "s.where(s > 1, 10)"
      ],
      "metadata": {
        "colab": {
          "base_uri": "https://localhost:8080/"
        },
        "id": "yeryxc9H36DP",
        "outputId": "064a1f81-0276-451d-83dc-f6c56a48b6ca"
      },
      "execution_count": 71,
      "outputs": [
        {
          "output_type": "execute_result",
          "data": {
            "text/plain": [
              "0    10\n",
              "1    10\n",
              "2     2\n",
              "3     3\n",
              "4     4\n",
              "dtype: int64"
            ]
          },
          "metadata": {},
          "execution_count": 71
        }
      ]
    },
    {
      "cell_type": "markdown",
      "source": [
        "### **Выбор столбцов на основе частичного совпадения**"
      ],
      "metadata": {
        "id": "TYp-xsf45UHX"
      }
    },
    {
      "cell_type": "code",
      "source": [
        "df1.filter(like = 'tion', axis = 1)"
      ],
      "metadata": {
        "colab": {
          "base_uri": "https://localhost:8080/",
          "height": 0
        },
        "id": "Rju-q8q55cBx",
        "outputId": "17f4df90-38a6-4473-8ab0-722f201de058"
      },
      "execution_count": 72,
      "outputs": [
        {
          "output_type": "execute_result",
          "data": {
            "text/plain": [
              "   City Population  Population density\n",
              "0              563            0.780319\n",
              "1              898            0.571247\n",
              "2              745            0.673599\n",
              "3              215            2.039848\n",
              "4             1192            0.474711"
            ],
            "text/html": [
              "\n",
              "  <div id=\"df-766519d3-19aa-4ab4-bb80-a953fb3f1dfe\">\n",
              "    <div class=\"colab-df-container\">\n",
              "      <div>\n",
              "<style scoped>\n",
              "    .dataframe tbody tr th:only-of-type {\n",
              "        vertical-align: middle;\n",
              "    }\n",
              "\n",
              "    .dataframe tbody tr th {\n",
              "        vertical-align: top;\n",
              "    }\n",
              "\n",
              "    .dataframe thead th {\n",
              "        text-align: right;\n",
              "    }\n",
              "</style>\n",
              "<table border=\"1\" class=\"dataframe\">\n",
              "  <thead>\n",
              "    <tr style=\"text-align: right;\">\n",
              "      <th></th>\n",
              "      <th>City Population</th>\n",
              "      <th>Population density</th>\n",
              "    </tr>\n",
              "  </thead>\n",
              "  <tbody>\n",
              "    <tr>\n",
              "      <th>0</th>\n",
              "      <td>563</td>\n",
              "      <td>0.780319</td>\n",
              "    </tr>\n",
              "    <tr>\n",
              "      <th>1</th>\n",
              "      <td>898</td>\n",
              "      <td>0.571247</td>\n",
              "    </tr>\n",
              "    <tr>\n",
              "      <th>2</th>\n",
              "      <td>745</td>\n",
              "      <td>0.673599</td>\n",
              "    </tr>\n",
              "    <tr>\n",
              "      <th>3</th>\n",
              "      <td>215</td>\n",
              "      <td>2.039848</td>\n",
              "    </tr>\n",
              "    <tr>\n",
              "      <th>4</th>\n",
              "      <td>1192</td>\n",
              "      <td>0.474711</td>\n",
              "    </tr>\n",
              "  </tbody>\n",
              "</table>\n",
              "</div>\n",
              "      <button class=\"colab-df-convert\" onclick=\"convertToInteractive('df-766519d3-19aa-4ab4-bb80-a953fb3f1dfe')\"\n",
              "              title=\"Convert this dataframe to an interactive table.\"\n",
              "              style=\"display:none;\">\n",
              "        \n",
              "  <svg xmlns=\"http://www.w3.org/2000/svg\" height=\"24px\"viewBox=\"0 0 24 24\"\n",
              "       width=\"24px\">\n",
              "    <path d=\"M0 0h24v24H0V0z\" fill=\"none\"/>\n",
              "    <path d=\"M18.56 5.44l.94 2.06.94-2.06 2.06-.94-2.06-.94-.94-2.06-.94 2.06-2.06.94zm-11 1L8.5 8.5l.94-2.06 2.06-.94-2.06-.94L8.5 2.5l-.94 2.06-2.06.94zm10 10l.94 2.06.94-2.06 2.06-.94-2.06-.94-.94-2.06-.94 2.06-2.06.94z\"/><path d=\"M17.41 7.96l-1.37-1.37c-.4-.4-.92-.59-1.43-.59-.52 0-1.04.2-1.43.59L10.3 9.45l-7.72 7.72c-.78.78-.78 2.05 0 2.83L4 21.41c.39.39.9.59 1.41.59.51 0 1.02-.2 1.41-.59l7.78-7.78 2.81-2.81c.8-.78.8-2.07 0-2.86zM5.41 20L4 18.59l7.72-7.72 1.47 1.35L5.41 20z\"/>\n",
              "  </svg>\n",
              "      </button>\n",
              "      \n",
              "  <style>\n",
              "    .colab-df-container {\n",
              "      display:flex;\n",
              "      flex-wrap:wrap;\n",
              "      gap: 12px;\n",
              "    }\n",
              "\n",
              "    .colab-df-convert {\n",
              "      background-color: #E8F0FE;\n",
              "      border: none;\n",
              "      border-radius: 50%;\n",
              "      cursor: pointer;\n",
              "      display: none;\n",
              "      fill: #1967D2;\n",
              "      height: 32px;\n",
              "      padding: 0 0 0 0;\n",
              "      width: 32px;\n",
              "    }\n",
              "\n",
              "    .colab-df-convert:hover {\n",
              "      background-color: #E2EBFA;\n",
              "      box-shadow: 0px 1px 2px rgba(60, 64, 67, 0.3), 0px 1px 3px 1px rgba(60, 64, 67, 0.15);\n",
              "      fill: #174EA6;\n",
              "    }\n",
              "\n",
              "    [theme=dark] .colab-df-convert {\n",
              "      background-color: #3B4455;\n",
              "      fill: #D2E3FC;\n",
              "    }\n",
              "\n",
              "    [theme=dark] .colab-df-convert:hover {\n",
              "      background-color: #434B5C;\n",
              "      box-shadow: 0px 1px 3px 1px rgba(0, 0, 0, 0.15);\n",
              "      filter: drop-shadow(0px 1px 2px rgba(0, 0, 0, 0.3));\n",
              "      fill: #FFFFFF;\n",
              "    }\n",
              "  </style>\n",
              "\n",
              "      <script>\n",
              "        const buttonEl =\n",
              "          document.querySelector('#df-766519d3-19aa-4ab4-bb80-a953fb3f1dfe button.colab-df-convert');\n",
              "        buttonEl.style.display =\n",
              "          google.colab.kernel.accessAllowed ? 'block' : 'none';\n",
              "\n",
              "        async function convertToInteractive(key) {\n",
              "          const element = document.querySelector('#df-766519d3-19aa-4ab4-bb80-a953fb3f1dfe');\n",
              "          const dataTable =\n",
              "            await google.colab.kernel.invokeFunction('convertToInteractive',\n",
              "                                                     [key], {});\n",
              "          if (!dataTable) return;\n",
              "\n",
              "          const docLinkHtml = 'Like what you see? Visit the ' +\n",
              "            '<a target=\"_blank\" href=https://colab.research.google.com/notebooks/data_table.ipynb>data table notebook</a>'\n",
              "            + ' to learn more about interactive tables.';\n",
              "          element.innerHTML = '';\n",
              "          dataTable['output_type'] = 'display_data';\n",
              "          await google.colab.output.renderOutput(dataTable, element);\n",
              "          const docLink = document.createElement('div');\n",
              "          docLink.innerHTML = docLinkHtml;\n",
              "          element.appendChild(docLink);\n",
              "        }\n",
              "      </script>\n",
              "    </div>\n",
              "  </div>\n",
              "  "
            ]
          },
          "metadata": {},
          "execution_count": 72
        }
      ]
    },
    {
      "cell_type": "markdown",
      "source": [
        "в R ЭТО БУДЕТ \n",
        "\n",
        "`%>% select(contains(\"g\"))`\n",
        "\n",
        "- ends_with\n",
        "\n",
        "- starts_with"
      ],
      "metadata": {
        "id": "XesLDyOc6Dio"
      }
    },
    {
      "cell_type": "markdown",
      "source": [
        "### **nlargest() и nsmallest для определения наибольших и наименьших значений**"
      ],
      "metadata": {
        "id": "ukTTaWLP7kmR"
      }
    },
    {
      "cell_type": "markdown",
      "source": [
        ""
      ],
      "metadata": {
        "id": "lXe6UQdA8PKI"
      }
    },
    {
      "cell_type": "code",
      "source": [
        "import pandas as pd\n",
        "import numpy as np\n",
        "df = pd.DataFrame({'HEIGHT': [170,78,99,160,160,130,155,70,70,20],\n",
        "                   'WEIGHT': [50,60,70,80,90,90,90,50,60,70]},\n",
        "                   index=['A','B','C','D','E','F','G','H','I','J'])\n",
        "print(df)"
      ],
      "metadata": {
        "colab": {
          "base_uri": "https://localhost:8080/"
        },
        "id": "6j-zSkZo5X4H",
        "outputId": "5fc97f5b-06fd-4ab1-a956-acb8cc0e2505"
      },
      "execution_count": 74,
      "outputs": [
        {
          "output_type": "stream",
          "name": "stdout",
          "text": [
            "   HEIGHT  WEIGHT\n",
            "A     170      50\n",
            "B      78      60\n",
            "C      99      70\n",
            "D     160      80\n",
            "E     160      90\n",
            "F     130      90\n",
            "G     155      90\n",
            "H      70      50\n",
            "I      70      60\n",
            "J      20      70\n"
          ]
        }
      ]
    },
    {
      "cell_type": "code",
      "source": [
        "df.nlargest(3, 'HEIGHT')"
      ],
      "metadata": {
        "colab": {
          "base_uri": "https://localhost:8080/",
          "height": 0
        },
        "id": "F__u8EcE5X1h",
        "outputId": "137202ca-a6ee-4fd8-cc20-242b06bed770"
      },
      "execution_count": 75,
      "outputs": [
        {
          "output_type": "execute_result",
          "data": {
            "text/plain": [
              "   HEIGHT  WEIGHT\n",
              "A     170      50\n",
              "D     160      80\n",
              "E     160      90"
            ],
            "text/html": [
              "\n",
              "  <div id=\"df-73be4bb2-7f79-4c3b-adb7-d2b45aebfb94\">\n",
              "    <div class=\"colab-df-container\">\n",
              "      <div>\n",
              "<style scoped>\n",
              "    .dataframe tbody tr th:only-of-type {\n",
              "        vertical-align: middle;\n",
              "    }\n",
              "\n",
              "    .dataframe tbody tr th {\n",
              "        vertical-align: top;\n",
              "    }\n",
              "\n",
              "    .dataframe thead th {\n",
              "        text-align: right;\n",
              "    }\n",
              "</style>\n",
              "<table border=\"1\" class=\"dataframe\">\n",
              "  <thead>\n",
              "    <tr style=\"text-align: right;\">\n",
              "      <th></th>\n",
              "      <th>HEIGHT</th>\n",
              "      <th>WEIGHT</th>\n",
              "    </tr>\n",
              "  </thead>\n",
              "  <tbody>\n",
              "    <tr>\n",
              "      <th>A</th>\n",
              "      <td>170</td>\n",
              "      <td>50</td>\n",
              "    </tr>\n",
              "    <tr>\n",
              "      <th>D</th>\n",
              "      <td>160</td>\n",
              "      <td>80</td>\n",
              "    </tr>\n",
              "    <tr>\n",
              "      <th>E</th>\n",
              "      <td>160</td>\n",
              "      <td>90</td>\n",
              "    </tr>\n",
              "  </tbody>\n",
              "</table>\n",
              "</div>\n",
              "      <button class=\"colab-df-convert\" onclick=\"convertToInteractive('df-73be4bb2-7f79-4c3b-adb7-d2b45aebfb94')\"\n",
              "              title=\"Convert this dataframe to an interactive table.\"\n",
              "              style=\"display:none;\">\n",
              "        \n",
              "  <svg xmlns=\"http://www.w3.org/2000/svg\" height=\"24px\"viewBox=\"0 0 24 24\"\n",
              "       width=\"24px\">\n",
              "    <path d=\"M0 0h24v24H0V0z\" fill=\"none\"/>\n",
              "    <path d=\"M18.56 5.44l.94 2.06.94-2.06 2.06-.94-2.06-.94-.94-2.06-.94 2.06-2.06.94zm-11 1L8.5 8.5l.94-2.06 2.06-.94-2.06-.94L8.5 2.5l-.94 2.06-2.06.94zm10 10l.94 2.06.94-2.06 2.06-.94-2.06-.94-.94-2.06-.94 2.06-2.06.94z\"/><path d=\"M17.41 7.96l-1.37-1.37c-.4-.4-.92-.59-1.43-.59-.52 0-1.04.2-1.43.59L10.3 9.45l-7.72 7.72c-.78.78-.78 2.05 0 2.83L4 21.41c.39.39.9.59 1.41.59.51 0 1.02-.2 1.41-.59l7.78-7.78 2.81-2.81c.8-.78.8-2.07 0-2.86zM5.41 20L4 18.59l7.72-7.72 1.47 1.35L5.41 20z\"/>\n",
              "  </svg>\n",
              "      </button>\n",
              "      \n",
              "  <style>\n",
              "    .colab-df-container {\n",
              "      display:flex;\n",
              "      flex-wrap:wrap;\n",
              "      gap: 12px;\n",
              "    }\n",
              "\n",
              "    .colab-df-convert {\n",
              "      background-color: #E8F0FE;\n",
              "      border: none;\n",
              "      border-radius: 50%;\n",
              "      cursor: pointer;\n",
              "      display: none;\n",
              "      fill: #1967D2;\n",
              "      height: 32px;\n",
              "      padding: 0 0 0 0;\n",
              "      width: 32px;\n",
              "    }\n",
              "\n",
              "    .colab-df-convert:hover {\n",
              "      background-color: #E2EBFA;\n",
              "      box-shadow: 0px 1px 2px rgba(60, 64, 67, 0.3), 0px 1px 3px 1px rgba(60, 64, 67, 0.15);\n",
              "      fill: #174EA6;\n",
              "    }\n",
              "\n",
              "    [theme=dark] .colab-df-convert {\n",
              "      background-color: #3B4455;\n",
              "      fill: #D2E3FC;\n",
              "    }\n",
              "\n",
              "    [theme=dark] .colab-df-convert:hover {\n",
              "      background-color: #434B5C;\n",
              "      box-shadow: 0px 1px 3px 1px rgba(0, 0, 0, 0.15);\n",
              "      filter: drop-shadow(0px 1px 2px rgba(0, 0, 0, 0.3));\n",
              "      fill: #FFFFFF;\n",
              "    }\n",
              "  </style>\n",
              "\n",
              "      <script>\n",
              "        const buttonEl =\n",
              "          document.querySelector('#df-73be4bb2-7f79-4c3b-adb7-d2b45aebfb94 button.colab-df-convert');\n",
              "        buttonEl.style.display =\n",
              "          google.colab.kernel.accessAllowed ? 'block' : 'none';\n",
              "\n",
              "        async function convertToInteractive(key) {\n",
              "          const element = document.querySelector('#df-73be4bb2-7f79-4c3b-adb7-d2b45aebfb94');\n",
              "          const dataTable =\n",
              "            await google.colab.kernel.invokeFunction('convertToInteractive',\n",
              "                                                     [key], {});\n",
              "          if (!dataTable) return;\n",
              "\n",
              "          const docLinkHtml = 'Like what you see? Visit the ' +\n",
              "            '<a target=\"_blank\" href=https://colab.research.google.com/notebooks/data_table.ipynb>data table notebook</a>'\n",
              "            + ' to learn more about interactive tables.';\n",
              "          element.innerHTML = '';\n",
              "          dataTable['output_type'] = 'display_data';\n",
              "          await google.colab.output.renderOutput(dataTable, element);\n",
              "          const docLink = document.createElement('div');\n",
              "          docLink.innerHTML = docLinkHtml;\n",
              "          element.appendChild(docLink);\n",
              "        }\n",
              "      </script>\n",
              "    </div>\n",
              "  </div>\n",
              "  "
            ]
          },
          "metadata": {},
          "execution_count": 75
        }
      ]
    },
    {
      "cell_type": "code",
      "source": [
        "dfl = df.nlargest(2,'HEIGHT',keep='all')\n",
        "print(dfl)"
      ],
      "metadata": {
        "colab": {
          "base_uri": "https://localhost:8080/"
        },
        "id": "zDbVAV2M5Xz0",
        "outputId": "0a54d497-5903-433f-f45d-b6ae77c73c90"
      },
      "execution_count": 76,
      "outputs": [
        {
          "output_type": "stream",
          "name": "stdout",
          "text": [
            "   HEIGHT  WEIGHT\n",
            "A     170      50\n",
            "D     160      80\n",
            "E     160      90\n"
          ]
        }
      ]
    },
    {
      "cell_type": "markdown",
      "source": [
        "IN R we will se slice_min(colname, n = 1)"
      ],
      "metadata": {
        "id": "5tDeAnhV8iCy"
      }
    },
    {
      "cell_type": "markdown",
      "source": [
        "Если есть строки с одинаковым значением переменной, то мы можем\n",
        "- оставить все или keep = 'all'\n",
        "\n",
        "- оствить первые наблюдения first\n",
        "\n",
        "- последние last\n",
        "\n",
        "По аналогии **nsmallest**"
      ],
      "metadata": {
        "id": "endF5bJI83g5"
      }
    },
    {
      "cell_type": "code",
      "source": [
        "df.nsmallest(3,'WEIGHT')"
      ],
      "metadata": {
        "colab": {
          "base_uri": "https://localhost:8080/",
          "height": 0
        },
        "id": "7A1TluZP5XxT",
        "outputId": "b1f997c8-39a7-409e-a98d-74c9b68dad11"
      },
      "execution_count": 77,
      "outputs": [
        {
          "output_type": "execute_result",
          "data": {
            "text/plain": [
              "   HEIGHT  WEIGHT\n",
              "A     170      50\n",
              "H      70      50\n",
              "B      78      60"
            ],
            "text/html": [
              "\n",
              "  <div id=\"df-6b081906-086a-418e-b967-cd115c52b531\">\n",
              "    <div class=\"colab-df-container\">\n",
              "      <div>\n",
              "<style scoped>\n",
              "    .dataframe tbody tr th:only-of-type {\n",
              "        vertical-align: middle;\n",
              "    }\n",
              "\n",
              "    .dataframe tbody tr th {\n",
              "        vertical-align: top;\n",
              "    }\n",
              "\n",
              "    .dataframe thead th {\n",
              "        text-align: right;\n",
              "    }\n",
              "</style>\n",
              "<table border=\"1\" class=\"dataframe\">\n",
              "  <thead>\n",
              "    <tr style=\"text-align: right;\">\n",
              "      <th></th>\n",
              "      <th>HEIGHT</th>\n",
              "      <th>WEIGHT</th>\n",
              "    </tr>\n",
              "  </thead>\n",
              "  <tbody>\n",
              "    <tr>\n",
              "      <th>A</th>\n",
              "      <td>170</td>\n",
              "      <td>50</td>\n",
              "    </tr>\n",
              "    <tr>\n",
              "      <th>H</th>\n",
              "      <td>70</td>\n",
              "      <td>50</td>\n",
              "    </tr>\n",
              "    <tr>\n",
              "      <th>B</th>\n",
              "      <td>78</td>\n",
              "      <td>60</td>\n",
              "    </tr>\n",
              "  </tbody>\n",
              "</table>\n",
              "</div>\n",
              "      <button class=\"colab-df-convert\" onclick=\"convertToInteractive('df-6b081906-086a-418e-b967-cd115c52b531')\"\n",
              "              title=\"Convert this dataframe to an interactive table.\"\n",
              "              style=\"display:none;\">\n",
              "        \n",
              "  <svg xmlns=\"http://www.w3.org/2000/svg\" height=\"24px\"viewBox=\"0 0 24 24\"\n",
              "       width=\"24px\">\n",
              "    <path d=\"M0 0h24v24H0V0z\" fill=\"none\"/>\n",
              "    <path d=\"M18.56 5.44l.94 2.06.94-2.06 2.06-.94-2.06-.94-.94-2.06-.94 2.06-2.06.94zm-11 1L8.5 8.5l.94-2.06 2.06-.94-2.06-.94L8.5 2.5l-.94 2.06-2.06.94zm10 10l.94 2.06.94-2.06 2.06-.94-2.06-.94-.94-2.06-.94 2.06-2.06.94z\"/><path d=\"M17.41 7.96l-1.37-1.37c-.4-.4-.92-.59-1.43-.59-.52 0-1.04.2-1.43.59L10.3 9.45l-7.72 7.72c-.78.78-.78 2.05 0 2.83L4 21.41c.39.39.9.59 1.41.59.51 0 1.02-.2 1.41-.59l7.78-7.78 2.81-2.81c.8-.78.8-2.07 0-2.86zM5.41 20L4 18.59l7.72-7.72 1.47 1.35L5.41 20z\"/>\n",
              "  </svg>\n",
              "      </button>\n",
              "      \n",
              "  <style>\n",
              "    .colab-df-container {\n",
              "      display:flex;\n",
              "      flex-wrap:wrap;\n",
              "      gap: 12px;\n",
              "    }\n",
              "\n",
              "    .colab-df-convert {\n",
              "      background-color: #E8F0FE;\n",
              "      border: none;\n",
              "      border-radius: 50%;\n",
              "      cursor: pointer;\n",
              "      display: none;\n",
              "      fill: #1967D2;\n",
              "      height: 32px;\n",
              "      padding: 0 0 0 0;\n",
              "      width: 32px;\n",
              "    }\n",
              "\n",
              "    .colab-df-convert:hover {\n",
              "      background-color: #E2EBFA;\n",
              "      box-shadow: 0px 1px 2px rgba(60, 64, 67, 0.3), 0px 1px 3px 1px rgba(60, 64, 67, 0.15);\n",
              "      fill: #174EA6;\n",
              "    }\n",
              "\n",
              "    [theme=dark] .colab-df-convert {\n",
              "      background-color: #3B4455;\n",
              "      fill: #D2E3FC;\n",
              "    }\n",
              "\n",
              "    [theme=dark] .colab-df-convert:hover {\n",
              "      background-color: #434B5C;\n",
              "      box-shadow: 0px 1px 3px 1px rgba(0, 0, 0, 0.15);\n",
              "      filter: drop-shadow(0px 1px 2px rgba(0, 0, 0, 0.3));\n",
              "      fill: #FFFFFF;\n",
              "    }\n",
              "  </style>\n",
              "\n",
              "      <script>\n",
              "        const buttonEl =\n",
              "          document.querySelector('#df-6b081906-086a-418e-b967-cd115c52b531 button.colab-df-convert');\n",
              "        buttonEl.style.display =\n",
              "          google.colab.kernel.accessAllowed ? 'block' : 'none';\n",
              "\n",
              "        async function convertToInteractive(key) {\n",
              "          const element = document.querySelector('#df-6b081906-086a-418e-b967-cd115c52b531');\n",
              "          const dataTable =\n",
              "            await google.colab.kernel.invokeFunction('convertToInteractive',\n",
              "                                                     [key], {});\n",
              "          if (!dataTable) return;\n",
              "\n",
              "          const docLinkHtml = 'Like what you see? Visit the ' +\n",
              "            '<a target=\"_blank\" href=https://colab.research.google.com/notebooks/data_table.ipynb>data table notebook</a>'\n",
              "            + ' to learn more about interactive tables.';\n",
              "          element.innerHTML = '';\n",
              "          dataTable['output_type'] = 'display_data';\n",
              "          await google.colab.output.renderOutput(dataTable, element);\n",
              "          const docLink = document.createElement('div');\n",
              "          docLink.innerHTML = docLinkHtml;\n",
              "          element.appendChild(docLink);\n",
              "        }\n",
              "      </script>\n",
              "    </div>\n",
              "  </div>\n",
              "  "
            ]
          },
          "metadata": {},
          "execution_count": 77
        }
      ]
    },
    {
      "cell_type": "markdown",
      "source": [
        "### **Отбор случайных образцов из набора данных - sample**"
      ],
      "metadata": {
        "id": "oRZ1MQAP-RVp"
      }
    },
    {
      "cell_type": "code",
      "source": [
        "df.sample(frac=0.25)"
      ],
      "metadata": {
        "colab": {
          "base_uri": "https://localhost:8080/",
          "height": 112
        },
        "id": "XybmvqLV5XvD",
        "outputId": "3d058b80-72dd-4b9a-fd32-3e5b42ec0214"
      },
      "execution_count": 79,
      "outputs": [
        {
          "output_type": "execute_result",
          "data": {
            "text/plain": [
              "   HEIGHT  WEIGHT\n",
              "G     155      90\n",
              "I      70      60"
            ],
            "text/html": [
              "\n",
              "  <div id=\"df-0fd41e6d-e729-4da3-b728-2e70cc393d40\">\n",
              "    <div class=\"colab-df-container\">\n",
              "      <div>\n",
              "<style scoped>\n",
              "    .dataframe tbody tr th:only-of-type {\n",
              "        vertical-align: middle;\n",
              "    }\n",
              "\n",
              "    .dataframe tbody tr th {\n",
              "        vertical-align: top;\n",
              "    }\n",
              "\n",
              "    .dataframe thead th {\n",
              "        text-align: right;\n",
              "    }\n",
              "</style>\n",
              "<table border=\"1\" class=\"dataframe\">\n",
              "  <thead>\n",
              "    <tr style=\"text-align: right;\">\n",
              "      <th></th>\n",
              "      <th>HEIGHT</th>\n",
              "      <th>WEIGHT</th>\n",
              "    </tr>\n",
              "  </thead>\n",
              "  <tbody>\n",
              "    <tr>\n",
              "      <th>G</th>\n",
              "      <td>155</td>\n",
              "      <td>90</td>\n",
              "    </tr>\n",
              "    <tr>\n",
              "      <th>I</th>\n",
              "      <td>70</td>\n",
              "      <td>60</td>\n",
              "    </tr>\n",
              "  </tbody>\n",
              "</table>\n",
              "</div>\n",
              "      <button class=\"colab-df-convert\" onclick=\"convertToInteractive('df-0fd41e6d-e729-4da3-b728-2e70cc393d40')\"\n",
              "              title=\"Convert this dataframe to an interactive table.\"\n",
              "              style=\"display:none;\">\n",
              "        \n",
              "  <svg xmlns=\"http://www.w3.org/2000/svg\" height=\"24px\"viewBox=\"0 0 24 24\"\n",
              "       width=\"24px\">\n",
              "    <path d=\"M0 0h24v24H0V0z\" fill=\"none\"/>\n",
              "    <path d=\"M18.56 5.44l.94 2.06.94-2.06 2.06-.94-2.06-.94-.94-2.06-.94 2.06-2.06.94zm-11 1L8.5 8.5l.94-2.06 2.06-.94-2.06-.94L8.5 2.5l-.94 2.06-2.06.94zm10 10l.94 2.06.94-2.06 2.06-.94-2.06-.94-.94-2.06-.94 2.06-2.06.94z\"/><path d=\"M17.41 7.96l-1.37-1.37c-.4-.4-.92-.59-1.43-.59-.52 0-1.04.2-1.43.59L10.3 9.45l-7.72 7.72c-.78.78-.78 2.05 0 2.83L4 21.41c.39.39.9.59 1.41.59.51 0 1.02-.2 1.41-.59l7.78-7.78 2.81-2.81c.8-.78.8-2.07 0-2.86zM5.41 20L4 18.59l7.72-7.72 1.47 1.35L5.41 20z\"/>\n",
              "  </svg>\n",
              "      </button>\n",
              "      \n",
              "  <style>\n",
              "    .colab-df-container {\n",
              "      display:flex;\n",
              "      flex-wrap:wrap;\n",
              "      gap: 12px;\n",
              "    }\n",
              "\n",
              "    .colab-df-convert {\n",
              "      background-color: #E8F0FE;\n",
              "      border: none;\n",
              "      border-radius: 50%;\n",
              "      cursor: pointer;\n",
              "      display: none;\n",
              "      fill: #1967D2;\n",
              "      height: 32px;\n",
              "      padding: 0 0 0 0;\n",
              "      width: 32px;\n",
              "    }\n",
              "\n",
              "    .colab-df-convert:hover {\n",
              "      background-color: #E2EBFA;\n",
              "      box-shadow: 0px 1px 2px rgba(60, 64, 67, 0.3), 0px 1px 3px 1px rgba(60, 64, 67, 0.15);\n",
              "      fill: #174EA6;\n",
              "    }\n",
              "\n",
              "    [theme=dark] .colab-df-convert {\n",
              "      background-color: #3B4455;\n",
              "      fill: #D2E3FC;\n",
              "    }\n",
              "\n",
              "    [theme=dark] .colab-df-convert:hover {\n",
              "      background-color: #434B5C;\n",
              "      box-shadow: 0px 1px 3px 1px rgba(0, 0, 0, 0.15);\n",
              "      filter: drop-shadow(0px 1px 2px rgba(0, 0, 0, 0.3));\n",
              "      fill: #FFFFFF;\n",
              "    }\n",
              "  </style>\n",
              "\n",
              "      <script>\n",
              "        const buttonEl =\n",
              "          document.querySelector('#df-0fd41e6d-e729-4da3-b728-2e70cc393d40 button.colab-df-convert');\n",
              "        buttonEl.style.display =\n",
              "          google.colab.kernel.accessAllowed ? 'block' : 'none';\n",
              "\n",
              "        async function convertToInteractive(key) {\n",
              "          const element = document.querySelector('#df-0fd41e6d-e729-4da3-b728-2e70cc393d40');\n",
              "          const dataTable =\n",
              "            await google.colab.kernel.invokeFunction('convertToInteractive',\n",
              "                                                     [key], {});\n",
              "          if (!dataTable) return;\n",
              "\n",
              "          const docLinkHtml = 'Like what you see? Visit the ' +\n",
              "            '<a target=\"_blank\" href=https://colab.research.google.com/notebooks/data_table.ipynb>data table notebook</a>'\n",
              "            + ' to learn more about interactive tables.';\n",
              "          element.innerHTML = '';\n",
              "          dataTable['output_type'] = 'display_data';\n",
              "          await google.colab.output.renderOutput(dataTable, element);\n",
              "          const docLink = document.createElement('div');\n",
              "          docLink.innerHTML = docLinkHtml;\n",
              "          element.appendChild(docLink);\n",
              "        }\n",
              "      </script>\n",
              "    </div>\n",
              "  </div>\n",
              "  "
            ]
          },
          "metadata": {},
          "execution_count": 79
        }
      ]
    },
    {
      "cell_type": "markdown",
      "source": [
        "### **Перебор строк датафрейма**"
      ],
      "metadata": {
        "id": "VEHjmLKk-hpy"
      }
    },
    {
      "cell_type": "code",
      "source": [
        "df.iterrows()"
      ],
      "metadata": {
        "colab": {
          "base_uri": "https://localhost:8080/"
        },
        "id": "qyH-gkV2-mux",
        "outputId": "2d51fc36-ce9f-468a-b7f8-ab774bab6867"
      },
      "execution_count": 81,
      "outputs": [
        {
          "output_type": "execute_result",
          "data": {
            "text/plain": [
              "<generator object DataFrame.iterrows at 0x7f0f5408a950>"
            ]
          },
          "metadata": {},
          "execution_count": 81
        }
      ]
    },
    {
      "cell_type": "code",
      "source": [
        "for idx,row in df.iterrows():\n",
        "    print(idx, row)"
      ],
      "metadata": {
        "colab": {
          "base_uri": "https://localhost:8080/"
        },
        "id": "JHN-z50y5Xsw",
        "outputId": "84f338e1-88b4-487d-f1e4-84ea7c53c8f3"
      },
      "execution_count": 83,
      "outputs": [
        {
          "output_type": "stream",
          "name": "stdout",
          "text": [
            "A HEIGHT    170\n",
            "WEIGHT     50\n",
            "Name: A, dtype: int64\n",
            "B HEIGHT    78\n",
            "WEIGHT    60\n",
            "Name: B, dtype: int64\n",
            "C HEIGHT    99\n",
            "WEIGHT    70\n",
            "Name: C, dtype: int64\n",
            "D HEIGHT    160\n",
            "WEIGHT     80\n",
            "Name: D, dtype: int64\n",
            "E HEIGHT    160\n",
            "WEIGHT     90\n",
            "Name: E, dtype: int64\n",
            "F HEIGHT    130\n",
            "WEIGHT     90\n",
            "Name: F, dtype: int64\n",
            "G HEIGHT    155\n",
            "WEIGHT     90\n",
            "Name: G, dtype: int64\n",
            "H HEIGHT    70\n",
            "WEIGHT    50\n",
            "Name: H, dtype: int64\n",
            "I HEIGHT    70\n",
            "WEIGHT    60\n",
            "Name: I, dtype: int64\n",
            "J HEIGHT    20\n",
            "WEIGHT    70\n",
            "Name: J, dtype: int64\n"
          ]
        }
      ]
    },
    {
      "cell_type": "markdown",
      "source": [
        ""
      ],
      "metadata": {
        "id": "k2OrBzoe_5Gg"
      }
    },
    {
      "cell_type": "markdown",
      "source": [
        "### **pandas.DataFrame.explode** - аналог unnest в SQL\n",
        "\n",
        "Transform each element of a list-like to a row, replicating index values."
      ],
      "metadata": {
        "id": "iWt6dzzq_8fT"
      }
    },
    {
      "cell_type": "code",
      "source": [
        "import pandas as pd\n",
        "import numpy as np\n",
        "df = pd.DataFrame({'A': [[0, 1, 2], 'foo', [], [3, 4]],\n",
        "                   'B': 1,\n",
        "                   'C': [['a', 'b', 'c'], np.nan, [], ['d', 'e']]})\n",
        "df"
      ],
      "metadata": {
        "colab": {
          "base_uri": "https://localhost:8080/",
          "height": 175
        },
        "id": "6iHWfZ-A5Xpq",
        "outputId": "daededf4-b598-4af0-c932-7daf72f1549f"
      },
      "execution_count": 84,
      "outputs": [
        {
          "output_type": "execute_result",
          "data": {
            "text/plain": [
              "           A  B          C\n",
              "0  [0, 1, 2]  1  [a, b, c]\n",
              "1        foo  1        NaN\n",
              "2         []  1         []\n",
              "3     [3, 4]  1     [d, e]"
            ],
            "text/html": [
              "\n",
              "  <div id=\"df-7bc7fef5-ff77-4f2a-84ae-09b84ff09fe8\">\n",
              "    <div class=\"colab-df-container\">\n",
              "      <div>\n",
              "<style scoped>\n",
              "    .dataframe tbody tr th:only-of-type {\n",
              "        vertical-align: middle;\n",
              "    }\n",
              "\n",
              "    .dataframe tbody tr th {\n",
              "        vertical-align: top;\n",
              "    }\n",
              "\n",
              "    .dataframe thead th {\n",
              "        text-align: right;\n",
              "    }\n",
              "</style>\n",
              "<table border=\"1\" class=\"dataframe\">\n",
              "  <thead>\n",
              "    <tr style=\"text-align: right;\">\n",
              "      <th></th>\n",
              "      <th>A</th>\n",
              "      <th>B</th>\n",
              "      <th>C</th>\n",
              "    </tr>\n",
              "  </thead>\n",
              "  <tbody>\n",
              "    <tr>\n",
              "      <th>0</th>\n",
              "      <td>[0, 1, 2]</td>\n",
              "      <td>1</td>\n",
              "      <td>[a, b, c]</td>\n",
              "    </tr>\n",
              "    <tr>\n",
              "      <th>1</th>\n",
              "      <td>foo</td>\n",
              "      <td>1</td>\n",
              "      <td>NaN</td>\n",
              "    </tr>\n",
              "    <tr>\n",
              "      <th>2</th>\n",
              "      <td>[]</td>\n",
              "      <td>1</td>\n",
              "      <td>[]</td>\n",
              "    </tr>\n",
              "    <tr>\n",
              "      <th>3</th>\n",
              "      <td>[3, 4]</td>\n",
              "      <td>1</td>\n",
              "      <td>[d, e]</td>\n",
              "    </tr>\n",
              "  </tbody>\n",
              "</table>\n",
              "</div>\n",
              "      <button class=\"colab-df-convert\" onclick=\"convertToInteractive('df-7bc7fef5-ff77-4f2a-84ae-09b84ff09fe8')\"\n",
              "              title=\"Convert this dataframe to an interactive table.\"\n",
              "              style=\"display:none;\">\n",
              "        \n",
              "  <svg xmlns=\"http://www.w3.org/2000/svg\" height=\"24px\"viewBox=\"0 0 24 24\"\n",
              "       width=\"24px\">\n",
              "    <path d=\"M0 0h24v24H0V0z\" fill=\"none\"/>\n",
              "    <path d=\"M18.56 5.44l.94 2.06.94-2.06 2.06-.94-2.06-.94-.94-2.06-.94 2.06-2.06.94zm-11 1L8.5 8.5l.94-2.06 2.06-.94-2.06-.94L8.5 2.5l-.94 2.06-2.06.94zm10 10l.94 2.06.94-2.06 2.06-.94-2.06-.94-.94-2.06-.94 2.06-2.06.94z\"/><path d=\"M17.41 7.96l-1.37-1.37c-.4-.4-.92-.59-1.43-.59-.52 0-1.04.2-1.43.59L10.3 9.45l-7.72 7.72c-.78.78-.78 2.05 0 2.83L4 21.41c.39.39.9.59 1.41.59.51 0 1.02-.2 1.41-.59l7.78-7.78 2.81-2.81c.8-.78.8-2.07 0-2.86zM5.41 20L4 18.59l7.72-7.72 1.47 1.35L5.41 20z\"/>\n",
              "  </svg>\n",
              "      </button>\n",
              "      \n",
              "  <style>\n",
              "    .colab-df-container {\n",
              "      display:flex;\n",
              "      flex-wrap:wrap;\n",
              "      gap: 12px;\n",
              "    }\n",
              "\n",
              "    .colab-df-convert {\n",
              "      background-color: #E8F0FE;\n",
              "      border: none;\n",
              "      border-radius: 50%;\n",
              "      cursor: pointer;\n",
              "      display: none;\n",
              "      fill: #1967D2;\n",
              "      height: 32px;\n",
              "      padding: 0 0 0 0;\n",
              "      width: 32px;\n",
              "    }\n",
              "\n",
              "    .colab-df-convert:hover {\n",
              "      background-color: #E2EBFA;\n",
              "      box-shadow: 0px 1px 2px rgba(60, 64, 67, 0.3), 0px 1px 3px 1px rgba(60, 64, 67, 0.15);\n",
              "      fill: #174EA6;\n",
              "    }\n",
              "\n",
              "    [theme=dark] .colab-df-convert {\n",
              "      background-color: #3B4455;\n",
              "      fill: #D2E3FC;\n",
              "    }\n",
              "\n",
              "    [theme=dark] .colab-df-convert:hover {\n",
              "      background-color: #434B5C;\n",
              "      box-shadow: 0px 1px 3px 1px rgba(0, 0, 0, 0.15);\n",
              "      filter: drop-shadow(0px 1px 2px rgba(0, 0, 0, 0.3));\n",
              "      fill: #FFFFFF;\n",
              "    }\n",
              "  </style>\n",
              "\n",
              "      <script>\n",
              "        const buttonEl =\n",
              "          document.querySelector('#df-7bc7fef5-ff77-4f2a-84ae-09b84ff09fe8 button.colab-df-convert');\n",
              "        buttonEl.style.display =\n",
              "          google.colab.kernel.accessAllowed ? 'block' : 'none';\n",
              "\n",
              "        async function convertToInteractive(key) {\n",
              "          const element = document.querySelector('#df-7bc7fef5-ff77-4f2a-84ae-09b84ff09fe8');\n",
              "          const dataTable =\n",
              "            await google.colab.kernel.invokeFunction('convertToInteractive',\n",
              "                                                     [key], {});\n",
              "          if (!dataTable) return;\n",
              "\n",
              "          const docLinkHtml = 'Like what you see? Visit the ' +\n",
              "            '<a target=\"_blank\" href=https://colab.research.google.com/notebooks/data_table.ipynb>data table notebook</a>'\n",
              "            + ' to learn more about interactive tables.';\n",
              "          element.innerHTML = '';\n",
              "          dataTable['output_type'] = 'display_data';\n",
              "          await google.colab.output.renderOutput(dataTable, element);\n",
              "          const docLink = document.createElement('div');\n",
              "          docLink.innerHTML = docLinkHtml;\n",
              "          element.appendChild(docLink);\n",
              "        }\n",
              "      </script>\n",
              "    </div>\n",
              "  </div>\n",
              "  "
            ]
          },
          "metadata": {},
          "execution_count": 84
        }
      ]
    },
    {
      "cell_type": "code",
      "source": [
        "df.explode('A').explode('C')"
      ],
      "metadata": {
        "colab": {
          "base_uri": "https://localhost:8080/",
          "height": 520
        },
        "id": "LKYMqmKx-olh",
        "outputId": "e2a68c4a-4151-4ee9-bd8b-0528eba0cadd"
      },
      "execution_count": 86,
      "outputs": [
        {
          "output_type": "execute_result",
          "data": {
            "text/plain": [
              "     A  B    C\n",
              "0    0  1    a\n",
              "0    0  1    b\n",
              "0    0  1    c\n",
              "0    1  1    a\n",
              "0    1  1    b\n",
              "0    1  1    c\n",
              "0    2  1    a\n",
              "0    2  1    b\n",
              "0    2  1    c\n",
              "1  foo  1  NaN\n",
              "2  NaN  1  NaN\n",
              "3    3  1    d\n",
              "3    3  1    e\n",
              "3    4  1    d\n",
              "3    4  1    e"
            ],
            "text/html": [
              "\n",
              "  <div id=\"df-18799433-12cd-4250-ac64-2ec1806ce2b8\">\n",
              "    <div class=\"colab-df-container\">\n",
              "      <div>\n",
              "<style scoped>\n",
              "    .dataframe tbody tr th:only-of-type {\n",
              "        vertical-align: middle;\n",
              "    }\n",
              "\n",
              "    .dataframe tbody tr th {\n",
              "        vertical-align: top;\n",
              "    }\n",
              "\n",
              "    .dataframe thead th {\n",
              "        text-align: right;\n",
              "    }\n",
              "</style>\n",
              "<table border=\"1\" class=\"dataframe\">\n",
              "  <thead>\n",
              "    <tr style=\"text-align: right;\">\n",
              "      <th></th>\n",
              "      <th>A</th>\n",
              "      <th>B</th>\n",
              "      <th>C</th>\n",
              "    </tr>\n",
              "  </thead>\n",
              "  <tbody>\n",
              "    <tr>\n",
              "      <th>0</th>\n",
              "      <td>0</td>\n",
              "      <td>1</td>\n",
              "      <td>a</td>\n",
              "    </tr>\n",
              "    <tr>\n",
              "      <th>0</th>\n",
              "      <td>0</td>\n",
              "      <td>1</td>\n",
              "      <td>b</td>\n",
              "    </tr>\n",
              "    <tr>\n",
              "      <th>0</th>\n",
              "      <td>0</td>\n",
              "      <td>1</td>\n",
              "      <td>c</td>\n",
              "    </tr>\n",
              "    <tr>\n",
              "      <th>0</th>\n",
              "      <td>1</td>\n",
              "      <td>1</td>\n",
              "      <td>a</td>\n",
              "    </tr>\n",
              "    <tr>\n",
              "      <th>0</th>\n",
              "      <td>1</td>\n",
              "      <td>1</td>\n",
              "      <td>b</td>\n",
              "    </tr>\n",
              "    <tr>\n",
              "      <th>0</th>\n",
              "      <td>1</td>\n",
              "      <td>1</td>\n",
              "      <td>c</td>\n",
              "    </tr>\n",
              "    <tr>\n",
              "      <th>0</th>\n",
              "      <td>2</td>\n",
              "      <td>1</td>\n",
              "      <td>a</td>\n",
              "    </tr>\n",
              "    <tr>\n",
              "      <th>0</th>\n",
              "      <td>2</td>\n",
              "      <td>1</td>\n",
              "      <td>b</td>\n",
              "    </tr>\n",
              "    <tr>\n",
              "      <th>0</th>\n",
              "      <td>2</td>\n",
              "      <td>1</td>\n",
              "      <td>c</td>\n",
              "    </tr>\n",
              "    <tr>\n",
              "      <th>1</th>\n",
              "      <td>foo</td>\n",
              "      <td>1</td>\n",
              "      <td>NaN</td>\n",
              "    </tr>\n",
              "    <tr>\n",
              "      <th>2</th>\n",
              "      <td>NaN</td>\n",
              "      <td>1</td>\n",
              "      <td>NaN</td>\n",
              "    </tr>\n",
              "    <tr>\n",
              "      <th>3</th>\n",
              "      <td>3</td>\n",
              "      <td>1</td>\n",
              "      <td>d</td>\n",
              "    </tr>\n",
              "    <tr>\n",
              "      <th>3</th>\n",
              "      <td>3</td>\n",
              "      <td>1</td>\n",
              "      <td>e</td>\n",
              "    </tr>\n",
              "    <tr>\n",
              "      <th>3</th>\n",
              "      <td>4</td>\n",
              "      <td>1</td>\n",
              "      <td>d</td>\n",
              "    </tr>\n",
              "    <tr>\n",
              "      <th>3</th>\n",
              "      <td>4</td>\n",
              "      <td>1</td>\n",
              "      <td>e</td>\n",
              "    </tr>\n",
              "  </tbody>\n",
              "</table>\n",
              "</div>\n",
              "      <button class=\"colab-df-convert\" onclick=\"convertToInteractive('df-18799433-12cd-4250-ac64-2ec1806ce2b8')\"\n",
              "              title=\"Convert this dataframe to an interactive table.\"\n",
              "              style=\"display:none;\">\n",
              "        \n",
              "  <svg xmlns=\"http://www.w3.org/2000/svg\" height=\"24px\"viewBox=\"0 0 24 24\"\n",
              "       width=\"24px\">\n",
              "    <path d=\"M0 0h24v24H0V0z\" fill=\"none\"/>\n",
              "    <path d=\"M18.56 5.44l.94 2.06.94-2.06 2.06-.94-2.06-.94-.94-2.06-.94 2.06-2.06.94zm-11 1L8.5 8.5l.94-2.06 2.06-.94-2.06-.94L8.5 2.5l-.94 2.06-2.06.94zm10 10l.94 2.06.94-2.06 2.06-.94-2.06-.94-.94-2.06-.94 2.06-2.06.94z\"/><path d=\"M17.41 7.96l-1.37-1.37c-.4-.4-.92-.59-1.43-.59-.52 0-1.04.2-1.43.59L10.3 9.45l-7.72 7.72c-.78.78-.78 2.05 0 2.83L4 21.41c.39.39.9.59 1.41.59.51 0 1.02-.2 1.41-.59l7.78-7.78 2.81-2.81c.8-.78.8-2.07 0-2.86zM5.41 20L4 18.59l7.72-7.72 1.47 1.35L5.41 20z\"/>\n",
              "  </svg>\n",
              "      </button>\n",
              "      \n",
              "  <style>\n",
              "    .colab-df-container {\n",
              "      display:flex;\n",
              "      flex-wrap:wrap;\n",
              "      gap: 12px;\n",
              "    }\n",
              "\n",
              "    .colab-df-convert {\n",
              "      background-color: #E8F0FE;\n",
              "      border: none;\n",
              "      border-radius: 50%;\n",
              "      cursor: pointer;\n",
              "      display: none;\n",
              "      fill: #1967D2;\n",
              "      height: 32px;\n",
              "      padding: 0 0 0 0;\n",
              "      width: 32px;\n",
              "    }\n",
              "\n",
              "    .colab-df-convert:hover {\n",
              "      background-color: #E2EBFA;\n",
              "      box-shadow: 0px 1px 2px rgba(60, 64, 67, 0.3), 0px 1px 3px 1px rgba(60, 64, 67, 0.15);\n",
              "      fill: #174EA6;\n",
              "    }\n",
              "\n",
              "    [theme=dark] .colab-df-convert {\n",
              "      background-color: #3B4455;\n",
              "      fill: #D2E3FC;\n",
              "    }\n",
              "\n",
              "    [theme=dark] .colab-df-convert:hover {\n",
              "      background-color: #434B5C;\n",
              "      box-shadow: 0px 1px 3px 1px rgba(0, 0, 0, 0.15);\n",
              "      filter: drop-shadow(0px 1px 2px rgba(0, 0, 0, 0.3));\n",
              "      fill: #FFFFFF;\n",
              "    }\n",
              "  </style>\n",
              "\n",
              "      <script>\n",
              "        const buttonEl =\n",
              "          document.querySelector('#df-18799433-12cd-4250-ac64-2ec1806ce2b8 button.colab-df-convert');\n",
              "        buttonEl.style.display =\n",
              "          google.colab.kernel.accessAllowed ? 'block' : 'none';\n",
              "\n",
              "        async function convertToInteractive(key) {\n",
              "          const element = document.querySelector('#df-18799433-12cd-4250-ac64-2ec1806ce2b8');\n",
              "          const dataTable =\n",
              "            await google.colab.kernel.invokeFunction('convertToInteractive',\n",
              "                                                     [key], {});\n",
              "          if (!dataTable) return;\n",
              "\n",
              "          const docLinkHtml = 'Like what you see? Visit the ' +\n",
              "            '<a target=\"_blank\" href=https://colab.research.google.com/notebooks/data_table.ipynb>data table notebook</a>'\n",
              "            + ' to learn more about interactive tables.';\n",
              "          element.innerHTML = '';\n",
              "          dataTable['output_type'] = 'display_data';\n",
              "          await google.colab.output.renderOutput(dataTable, element);\n",
              "          const docLink = document.createElement('div');\n",
              "          docLink.innerHTML = docLinkHtml;\n",
              "          element.appendChild(docLink);\n",
              "        }\n",
              "      </script>\n",
              "    </div>\n",
              "  </div>\n",
              "  "
            ]
          },
          "metadata": {},
          "execution_count": 86
        }
      ]
    },
    {
      "cell_type": "markdown",
      "source": [
        "> ### **Памятка по ENUMERATE**\n",
        "\n",
        "\n",
        "[*Source*](https://proglib.io/p/python-enumerate-uproshchaem-cikly-s-pomoshchyu-schetchikov-2020-12-08)"
      ],
      "metadata": {
        "id": "1hPAsOiUAV8p"
      }
    },
    {
      "cell_type": "markdown",
      "source": [
        "enumerate(sequence, start=0)\n",
        "\n",
        "sequence - любая последовательность, итератор, или объект, поддерживающий метод итератора next(),\n",
        "\n",
        "start - число int, начальное значение счётчик\n",
        "\n",
        "\n",
        "По сути enumerate заменяет счетчик\n",
        "\n",
        "\n",
        "```\n",
        "def enumerate(sequence, start=0):\n",
        "    n = start\n",
        "    for elem in sequence:\n",
        "        yield n, elem\n",
        "        n += 1\n",
        "```\n",
        "\n"
      ],
      "metadata": {
        "id": "cmMqsH_tAsKs"
      }
    },
    {
      "cell_type": "markdown",
      "source": [
        "\n",
        "\n",
        "> Наиболее часто функцию enumerate() используют в цикле for/in в качестве счетчика элементов последовательности:\n",
        "\n"
      ],
      "metadata": {
        "id": "xZ-p3kxhBEqb"
      }
    },
    {
      "cell_type": "code",
      "source": [
        "seq = list('абвгде')\n",
        "\n",
        "for i, val in enumerate(seq, start=1):\n",
        "  print(f'N {i} => {val}' )"
      ],
      "metadata": {
        "colab": {
          "base_uri": "https://localhost:8080/"
        },
        "id": "9KYyzjN-Ab3y",
        "outputId": "0cc7597a-3e3c-4e8e-df0b-45251cdc9d52"
      },
      "execution_count": 87,
      "outputs": [
        {
          "output_type": "stream",
          "name": "stdout",
          "text": [
            "N 1 => а\n",
            "N 2 => б\n",
            "N 3 => в\n",
            "N 4 => г\n",
            "N 5 => д\n",
            "N 6 => е\n"
          ]
        }
      ]
    },
    {
      "cell_type": "markdown",
      "source": [
        "Когда вы используете enumerate(), функция возвращает две переменные цикла: **количество текущих итераций и значение элемента** на текущей итерации."
      ],
      "metadata": {
        "id": "gTZzA6keCGkJ"
      }
    },
    {
      "cell_type": "markdown",
      "source": [
        "> Получение списка парных кортежей (number, value) (порядковый номер в последовательности, значение последовательности)"
      ],
      "metadata": {
        "id": "fkoXgDvMBK2I"
      }
    },
    {
      "cell_type": "code",
      "source": [
        "seasons = ['Spring', 'Summer', 'Fall', 'Winter']\n",
        "\n",
        "list(enumerate(seasons, start = 10))"
      ],
      "metadata": {
        "colab": {
          "base_uri": "https://localhost:8080/"
        },
        "id": "gq-D49B1Ab1k",
        "outputId": "7d79db25-e8b5-4618-ab89-359c0f66355f"
      },
      "execution_count": 88,
      "outputs": [
        {
          "output_type": "execute_result",
          "data": {
            "text/plain": [
              "[(10, 'Spring'), (11, 'Summer'), (12, 'Fall'), (13, 'Winter')]"
            ]
          },
          "metadata": {},
          "execution_count": 88
        }
      ]
    },
    {
      "cell_type": "code",
      "source": [
        "lst = [5, 3, 1, 0, 9, 7]\n",
        "lst_num = list(enumerate(lst, 0))\n",
        "# получился список кортежей, в которых \n",
        "# первый элемент - это индекс значения списка, \n",
        "# а второй элемент - само значение списка\n",
        "lst_num"
      ],
      "metadata": {
        "colab": {
          "base_uri": "https://localhost:8080/"
        },
        "id": "b04reMI6AbzK",
        "outputId": "4a9f58cc-54fa-4c1d-8cda-55fd8fe9c8a5"
      },
      "execution_count": 90,
      "outputs": [
        {
          "output_type": "execute_result",
          "data": {
            "text/plain": [
              "[(0, 5), (1, 3), (2, 1), (3, 0), (4, 9), (5, 7)]"
            ]
          },
          "metadata": {},
          "execution_count": 90
        }
      ]
    },
    {
      "cell_type": "markdown",
      "source": [
        "Найдем минимум и максимум по второму значению кортежа"
      ],
      "metadata": {
        "id": "j5uPFgz4BoLJ"
      }
    },
    {
      "cell_type": "code",
      "source": [
        "tup_max = max(lst_num, key = lambda i : i[1])\n",
        "tup_max"
      ],
      "metadata": {
        "colab": {
          "base_uri": "https://localhost:8080/"
        },
        "id": "fj4T-NOIAbxD",
        "outputId": "cac9bf9c-9f6f-4a13-f95f-a98e43a48888"
      },
      "execution_count": 91,
      "outputs": [
        {
          "output_type": "execute_result",
          "data": {
            "text/plain": [
              "(4, 9)"
            ]
          },
          "metadata": {},
          "execution_count": 91
        }
      ]
    },
    {
      "cell_type": "code",
      "source": [
        "tup_min = min(lst_num, key=lambda i : i[1])\n",
        "tup_min"
      ],
      "metadata": {
        "colab": {
          "base_uri": "https://localhost:8080/"
        },
        "id": "FsigmPSVAbuY",
        "outputId": "40768fb0-2aec-4660-c2d6-75429b33b04e"
      },
      "execution_count": 92,
      "outputs": [
        {
          "output_type": "execute_result",
          "data": {
            "text/plain": [
              "(3, 0)"
            ]
          },
          "metadata": {},
          "execution_count": 92
        }
      ]
    },
    {
      "cell_type": "code",
      "source": [
        "values = [\"a\", \"b\", \"c\"]\n",
        "\n",
        "for index in range(len(values)):\n",
        "  value = values[index]\n",
        "  print(index, value)"
      ],
      "metadata": {
        "colab": {
          "base_uri": "https://localhost:8080/"
        },
        "id": "fUWYRHS2AbsS",
        "outputId": "3eeb0aeb-710f-43ff-fa84-61012466796a"
      },
      "execution_count": 94,
      "outputs": [
        {
          "output_type": "stream",
          "name": "stdout",
          "text": [
            "0 a\n",
            "1 b\n",
            "2 c\n"
          ]
        }
      ]
    },
    {
      "cell_type": "markdown",
      "source": [
        "### **Enumerate - Возвращение элементов итерационной модели с четным индексом**"
      ],
      "metadata": {
        "id": "l5_G1Dq4CTdZ"
      }
    },
    {
      "cell_type": "markdown",
      "source": [
        "Можно комбинировать математические операции с условиями. Например, если вам понадобится возвращать элементы из итерационной модели, имеющие четный индекс. Это делается следующим образом:\n",
        "\n",
        "- в коде с нечетным"
      ],
      "metadata": {
        "id": "TYMRCNSjCNjf"
      }
    },
    {
      "cell_type": "code",
      "source": [
        "def even_items(iterable):\n",
        " \"\"\"Возврат элементов ``iterable`` когда индекс четный\"\"\"\n",
        " values = []\n",
        " for index, value in enumerate(iterable, start=1):\n",
        "   if not index % 2:\n",
        "     values.append(value)\n",
        " return values"
      ],
      "metadata": {
        "id": "kzTNjCX3Abp2"
      },
      "execution_count": 95,
      "outputs": []
    },
    {
      "cell_type": "markdown",
      "source": [
        "С помощью list comprehension"
      ],
      "metadata": {
        "id": "O-zSR1eJChVA"
      }
    },
    {
      "cell_type": "code",
      "source": [
        "def even_items(iterable):\n",
        "  return [v for i, v in enumerate(iterable, start=1) if not i % 2]"
      ],
      "metadata": {
        "id": "BWx4JdCVAbnL"
      },
      "execution_count": 97,
      "outputs": []
    },
    {
      "cell_type": "code",
      "source": [
        "testing = [1, 2, 3, 4, 5, 6]\n",
        "\n",
        "even_items(testing)"
      ],
      "metadata": {
        "colab": {
          "base_uri": "https://localhost:8080/"
        },
        "id": "MyMB1vaPAblH",
        "outputId": "3772139c-dc7a-4fcb-e908-ad3fb7a30f7e"
      },
      "execution_count": 98,
      "outputs": [
        {
          "output_type": "execute_result",
          "data": {
            "text/plain": [
              "[2, 4, 6]"
            ]
          },
          "metadata": {},
          "execution_count": 98
        }
      ]
    },
    {
      "cell_type": "markdown",
      "source": [
        "### **Распаковка аргументов с помощью for zip**"
      ],
      "metadata": {
        "id": "RHaTk7xwDrwA"
      }
    },
    {
      "cell_type": "markdown",
      "source": [
        "* Позволяет перебирать две или более последовательности одновременно. \n",
        "\n",
        "\n",
        "* На каждой итерации zip() возвращает кортеж, который собирает элементы из всех переданных последовательностей:"
      ],
      "metadata": {
        "id": "_AzUyuB7DziH"
      }
    },
    {
      "cell_type": "code",
      "source": [
        "first = [\"a\", \"b\", \"c\"]\n",
        "second = [\"d\", \"e\", \"f\"]\n",
        "third = [\"g\", \"h\", \"i\"]\n",
        "\n",
        "for one, two, three in zip(first, second, third):\n",
        "  print(one, two, three)"
      ],
      "metadata": {
        "colab": {
          "base_uri": "https://localhost:8080/"
        },
        "id": "7n7Ud0i2AbiY",
        "outputId": "6faf0fe0-18bc-4d67-878b-91739e46c2ab"
      },
      "execution_count": 99,
      "outputs": [
        {
          "output_type": "stream",
          "name": "stdout",
          "text": [
            "a d g\n",
            "b e h\n",
            "c f i\n"
          ]
        }
      ]
    },
    {
      "cell_type": "markdown",
      "source": [
        "В цикле элементы сопоставляются, а затем выводятся. Вы можете объединить zip() и enumerate(), используя вложенную распаковку аргументов:"
      ],
      "metadata": {
        "id": "Oj9Wh1FlEDi_"
      }
    },
    {
      "cell_type": "code",
      "source": [
        "for count, (one, two, three) in enumerate(zip(first, second, third)):\n",
        "  print(count, one, two, three)"
      ],
      "metadata": {
        "colab": {
          "base_uri": "https://localhost:8080/"
        },
        "id": "bqgm6TeFAbdD",
        "outputId": "e5a59b24-4926-49e9-e1f7-4d7e1c109eaf"
      },
      "execution_count": 100,
      "outputs": [
        {
          "output_type": "stream",
          "name": "stdout",
          "text": [
            "0 a d g\n",
            "1 b e h\n",
            "2 c f i\n"
          ]
        }
      ]
    },
    {
      "cell_type": "markdown",
      "source": [
        "\n"
      ],
      "metadata": {
        "id": "cosEvQz6EJe4"
      }
    }
  ]
}